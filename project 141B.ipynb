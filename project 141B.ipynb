{
 "cells": [
  {
   "cell_type": "code",
   "execution_count": null,
   "metadata": {
    "collapsed": true
   },
   "outputs": [],
   "source": [
    "##title"
   ]
  },
  {
   "cell_type": "markdown",
   "metadata": {},
   "source": [
    "Introduction"
   ]
  },
  {
   "cell_type": "code",
   "execution_count": 156,
   "metadata": {
    "collapsed": true
   },
   "outputs": [],
   "source": [
    "import requests\n",
    "import requests_cache\n",
    "from bs4 import BeautifulSoup\n",
    "import lxml\n",
    "import re\n",
    "requests_cache.install_cache('cache')"
   ]
  },
  {
   "cell_type": "markdown",
   "metadata": {},
   "source": [
    "## * <span style=\"color:blue\">Web Scrapping</span>  *"
   ]
  },
  {
   "cell_type": "markdown",
   "metadata": {},
   "source": [
    "We use 3000 posts in Indeed to futher analysis. First, we get the basic information inlcluding location, company name and url for the post. For url, we locate the tags with attribute *<span style=\"color:blue\">\"data-tn-element=\"jobTitle\"</span>*, the url is the value for attribute *<span style=\"color:blue\">href</span>*. For location and companies' names, they are the value of tag *<span style=\"color:blue\">span</span>* with attribute *<span style=\"color:blue\">lccation and company </span>* seperately."
   ]
  },
  {
   "cell_type": "code",
   "execution_count": 1,
   "metadata": {
    "collapsed": false
   },
   "outputs": [],
   "source": [
    "def get_url(start_url,pages=1):\n",
    "    '''\n",
    "    This function will return url,text  in the desifnated pages.\n",
    "    Input: start_url: the start page\n",
    "           pages:number of pages need searching.\n",
    "    '''\n",
    "    url=start_url \n",
    "    urls=[] #list of urls needed\n",
    "    loc=[]\n",
    "    names=[]\n",
    "    n_next=0 #number of next url\n",
    "    next_urls=[]\n",
    "    while True: \n",
    "        \n",
    "        html_doc=requests.get(url)\n",
    "        content=html_doc.content\n",
    "        soup = BeautifulSoup(content,\"lxml\")\n",
    "        \n",
    "        #urls\n",
    "        tags=soup.select('a[data-tn-element=\"jobTitle\"]') #locate\n",
    "        temp_urls=[tag.get(\"href\") for tag in tags ]\n",
    "        urls=urls+[\"https://www.indeed.com\"+url for url in temp_urls if ~url.startswith(\"http\")]\n",
    "        \n",
    "        #location\n",
    "        location = soup.find_all(name=\"span\",attrs = {\"class\":\"location\"})\n",
    "        loc =loc+ [i.text for i in location]\n",
    "        \n",
    "        #company name\n",
    "        name_tags=soup.find_all(name=\"span\",attrs = {\"class\":\"company\"})\n",
    "        names=names+[i.text for i in name_tags]\n",
    "        #combine\n",
    "        #loc_len=len(loc)\n",
    "        #url_len=len(urls)\n",
    "        ###if reach the upper limitation\n",
    "        if(n_next==pages-1):\n",
    "            break\n",
    "        ##get next pages\n",
    "    \n",
    "        ##if we can't find next one\n",
    "        starts=(n_next+1)*10\n",
    "        next_url=\"https://www.indeed.com/jobs?q=data+analyst&l=CA&start=%d\"%(starts)\n",
    "        n_next=n_next+1\n",
    "        url=next_url\n",
    "        next_urls=next_urls+[url]\n",
    "        \n",
    "        \n",
    "    return urls,loc,names,next_urls\n",
    "                                                     \n",
    "    \n",
    "    "
   ]
  },
  {
   "cell_type": "markdown",
   "metadata": {},
   "source": [
    "We scarp information from corresponding website according to the url for each post. For the url, we We get job description from body of the website since all the information about the job is the value of tag *<span style=\"color:blue\"> body</span>*."
   ]
  },
  {
   "cell_type": "code",
   "execution_count": 3,
   "metadata": {
    "collapsed": false
   },
   "outputs": [],
   "source": [
    "def get_content(url):\n",
    "    try:\n",
    "        doc=requests.get(url)\n",
    "        job_content=doc.content\n",
    "        soup_job= BeautifulSoup(job_content,'lxml')\n",
    "        job_body_tag=soup_job.find_all(\"body\")[0]\n",
    "        job={\"url\":url,\"text\":job_body_tag.text}\n",
    "    except:\n",
    "        job={}\n",
    "    return job"
   ]
  },
  {
   "cell_type": "markdown",
   "metadata": {},
   "source": [
    "We start from \"https://www.indeed.com/jobs?q=data+analyst&l=CA\" to find the posts related to data analysts in California. We get 3000 posts in 200 pages."
   ]
  },
  {
   "cell_type": "code",
   "execution_count": 4,
   "metadata": {
    "collapsed": true
   },
   "outputs": [],
   "source": [
    "start_url=\"https://www.indeed.com/jobs?q=data+analyst&l=CA\""
   ]
  },
  {
   "cell_type": "code",
   "execution_count": 5,
   "metadata": {
    "collapsed": false
   },
   "outputs": [],
   "source": [
    "urls,locs,names,nexts=get_url(start_url,pages=200)"
   ]
  },
  {
   "cell_type": "code",
   "execution_count": 7,
   "metadata": {
    "collapsed": false
   },
   "outputs": [],
   "source": [
    "names_fn=[x.strip() for x in names]"
   ]
  },
  {
   "cell_type": "code",
   "execution_count": 185,
   "metadata": {
    "collapsed": true
   },
   "outputs": [],
   "source": [
    "import collections as cls"
   ]
  },
  {
   "cell_type": "code",
   "execution_count": 9,
   "metadata": {
    "collapsed": false
   },
   "outputs": [
    {
     "data": {
      "text/plain": [
       "Counter({u'21Tech': 1,\n",
       "         u'360 IT Professionals': 1,\n",
       "         u'39 Celsius Web Marketing': 1,\n",
       "         u'A9.com': 16,\n",
       "         u'AAA': 1,\n",
       "         u'ABHOW': 1,\n",
       "         u'AECOM': 1,\n",
       "         u'AIDS Healthcare Foundation': 1,\n",
       "         u'AJobStaff': 3,\n",
       "         u'AKQA': 5,\n",
       "         u'AMERICAN ADVISORS GROUP': 1,\n",
       "         u'ARES Corporation': 1,\n",
       "         u'ATR International': 1,\n",
       "         u'Abacus Service Corporation': 2,\n",
       "         u'Abaxis': 1,\n",
       "         u'Able Forces': 1,\n",
       "         u'Academic Organization': 1,\n",
       "         u'Accelon Inc': 2,\n",
       "         u'Accenture': 1,\n",
       "         u'Accountemps': 1,\n",
       "         u'Activision': 1,\n",
       "         u'Acuitus': 2,\n",
       "         u'Acumen LLC': 1,\n",
       "         u'Ad Blot, Inc.': 1,\n",
       "         u'AdRoll': 1,\n",
       "         u'Adept Solutions': 3,\n",
       "         u'Adobe': 4,\n",
       "         u'Advancement Project': 24,\n",
       "         u'Adventist Health': 2,\n",
       "         u'Aetna': 1,\n",
       "         u'Affinity, Inc.': 1,\n",
       "         u'Agilent': 1,\n",
       "         u'Alambic Investment Management, LP': 46,\n",
       "         u'Alameda County Behavioral Health Care Services (BH...': 1,\n",
       "         u'Alignment Healthcare': 2,\n",
       "         u'Allergan': 1,\n",
       "         u'Alliance IT': 1,\n",
       "         u'AllianceData': 2,\n",
       "         u'AllianceIT': 5,\n",
       "         u'Alta Hospitals System LLC.': 3,\n",
       "         u'Alta Hospitals System, LLC': 3,\n",
       "         u'Amazon Corporate LLC': 3,\n",
       "         u'Amen Clinic': 1,\n",
       "         u'AmeriHome Mortgage': 2,\n",
       "         u\"America's Workforce Solution, LLC\": 2,\n",
       "         u'American Honda Motor Co., Inc.': 1,\n",
       "         u'Amtec': 3,\n",
       "         u'Andiamo! Group': 2,\n",
       "         u'Anthem, Inc.': 1,\n",
       "         u'AppDynamics': 1,\n",
       "         u'Apple': 16,\n",
       "         u'Applied Medical Resources Corporation': 1,\n",
       "         u'Appnomic Systems Pvt. Ltd': 1,\n",
       "         u'Apria Healthcare': 1,\n",
       "         u'Arthur J. Gallagher & Co': 2,\n",
       "         u'Ascent Services Group': 2,\n",
       "         u'Astreya': 5,\n",
       "         u'Atlas Executive Consulting': 1,\n",
       "         u'Autodesk': 5,\n",
       "         u'Avispa Technology': 4,\n",
       "         u'BANK OF MARIN': 1,\n",
       "         u'BCBS , CA': 1,\n",
       "         u'BDS Marketing': 1,\n",
       "         u'BNP Paribas': 4,\n",
       "         u'Bank of Hope': 2,\n",
       "         u'Bank of the West': 2,\n",
       "         u'Bastion Technologies': 5,\n",
       "         u'Beacon Systems, Inc': 1,\n",
       "         u'Becton Dickinson & Company': 1,\n",
       "         u'Best Choice Products': 1,\n",
       "         u'BetterHelp': 1,\n",
       "         u'Bio-Rad Inc.': 1,\n",
       "         u'BioMarin Pharmaceutical Inc.': 3,\n",
       "         u'BioMed Realty': 1,\n",
       "         u'Biorad': 2,\n",
       "         u'Blackwood Seven': 2,\n",
       "         u'Blend Labs': 3,\n",
       "         u'Blizzard Entertainment': 3,\n",
       "         u'Blue Shield of California': 13,\n",
       "         u'Booz Allen Hamilton': 1,\n",
       "         u'Borrego Health': 1,\n",
       "         u'Boutique Air': 25,\n",
       "         u'BrickworkX': 1,\n",
       "         u'Bureau Veritas': 1,\n",
       "         u'Butte County, CA': 24,\n",
       "         u'BuyAutoParts.com': 1,\n",
       "         u'C3 IoT': 1,\n",
       "         u'CACI': 1,\n",
       "         u'CBS Interactive': 2,\n",
       "         u'CEP America': 2,\n",
       "         u'CH Reynolds': 1,\n",
       "         u\"CHOC Children's Hospital\": 2,\n",
       "         u'COMPULINK BUSINESS SYSTEMS': 1,\n",
       "         u'CREATECH': 2,\n",
       "         u'CalOptima': 3,\n",
       "         u'California Polytechnic State University - San Luis...': 5,\n",
       "         u'California School for the Deaf and Blind': 1,\n",
       "         u'California State University': 22,\n",
       "         u'California State University - Fullerton': 1,\n",
       "         u'California State University, Chico': 1,\n",
       "         u'California State University, Los Angeles': 2,\n",
       "         u'California State University, Monterey Bay': 1,\n",
       "         u'Cambria Solutions, Inc': 1,\n",
       "         u'Capgemini': 1,\n",
       "         u'Caravan Health': 1,\n",
       "         u'Cardwell Beach': 2,\n",
       "         u'CareOnSite': 1,\n",
       "         u'CareWorks Tech': 1,\n",
       "         u'Cedars-Sinai': 1,\n",
       "         u'Centrillion': 1,\n",
       "         u'Century Group': 25,\n",
       "         u'CenturyLink': 1,\n",
       "         u'Chegg': 2,\n",
       "         u'Cherokee Nation Businesses': 16,\n",
       "         u'Childrens Hospital Los Angeles': 2,\n",
       "         u'Chinese Community Health Plan': 46,\n",
       "         u'Chronos Solutions': 2,\n",
       "         u'Cisco': 10,\n",
       "         u'Cisco Meraki': 1,\n",
       "         u'Citrus Research Board': 2,\n",
       "         u'City of Oakland, CA': 2,\n",
       "         u'City of Pico Rivera, CA': 2,\n",
       "         u'City of Stockton': 1,\n",
       "         u'Clarify Health': 1,\n",
       "         u'Classy': 3,\n",
       "         u'Clean Energy': 1,\n",
       "         u'ClientSolv Technologies': 1,\n",
       "         u'Clorox': 1,\n",
       "         u'CloudHealth Technologies': 1,\n",
       "         u'Cloudera': 1,\n",
       "         u'Clutter': 1,\n",
       "         u'Co-Op Temp Services': 1,\n",
       "         u'Coast Community College District': 1,\n",
       "         u'Cognella, Inc.': 1,\n",
       "         u'Coherent, Inc.': 1,\n",
       "         u'Colony Capital': 1,\n",
       "         u'Colony NorthStar, Inc.': 1,\n",
       "         u'Common Securitization Solutions': 3,\n",
       "         u'Compas': 1,\n",
       "         u'Conduent': 1,\n",
       "         u'Connexity': 1,\n",
       "         u'Contra Costa County Superior Court': 1,\n",
       "         u'Core Digital Media': 1,\n",
       "         u'CornerStone Staffing': 1,\n",
       "         u'Cornerstone': 1,\n",
       "         u'Cottage Health': 1,\n",
       "         u'Couchsurfing': 1,\n",
       "         u'County of Sonoma': 1,\n",
       "         u'Coupang': 2,\n",
       "         u'Createch': 2,\n",
       "         u'Creative Artists Agency (CAA)': 1,\n",
       "         u'Credit Sesame': 2,\n",
       "         u'DataVisor': 1,\n",
       "         u'Davis Strategic Innovations, Inc. (DSI)': 1,\n",
       "         u'Day Lee Foods': 1,\n",
       "         u'Dealpath': 1,\n",
       "         u'Decision Minds': 2,\n",
       "         u'Deloitte': 1,\n",
       "         u'Deluxe Entertainment': 2,\n",
       "         u'Dexcom Inc (US)': 1,\n",
       "         u'Disney ABC Television Group': 2,\n",
       "         u'Disney Parks & Resorts': 2,\n",
       "         u'Diverse Lynx LLC': 1,\n",
       "         u'Doctors Hospital of Manteca': 2,\n",
       "         u'Dolby': 6,\n",
       "         u'Doximity': 1,\n",
       "         u'Dropbox': 2,\n",
       "         u'E*TRADE FINANCIAL': 1,\n",
       "         u'E.&J. Gallo Winery': 1,\n",
       "         u'EPM Scientific': 1,\n",
       "         u'EasilyDo': 1,\n",
       "         u'East West Bank': 3,\n",
       "         u'Easterseals Bay Area': 2,\n",
       "         u'Eaze': 4,\n",
       "         u'Edmunds.com': 1,\n",
       "         u'Education Pioneers': 1,\n",
       "         u'Educational Credit Management Corporation': 3,\n",
       "         u'Edwards Lifesciences': 1,\n",
       "         u'Electronic Arts': 3,\n",
       "         u'Elevate Recruiting Group': 1,\n",
       "         u'Enfec': 1,\n",
       "         u'Entelo': 2,\n",
       "         u'Entryless': 3,\n",
       "         u'Envision Healthcare': 1,\n",
       "         u'Epsilon': 1,\n",
       "         u'Esri': 51,\n",
       "         u'Eventbrite': 2,\n",
       "         u'Eversight': 1,\n",
       "         u'Expeditors': 1,\n",
       "         u'Experis': 1,\n",
       "         u'Facebook': 31,\n",
       "         u'Faraday Future, Inc.': 2,\n",
       "         u'Farmers Insurance Group': 3,\n",
       "         u'Fashion Nova': 1,\n",
       "         u'Feedonomics': 1,\n",
       "         u'Fidelis Pro Solutions Inc': 1,\n",
       "         u'First 5 LA': 2,\n",
       "         u'First American Financial Corporation': 25,\n",
       "         u'First American Property and Casualty': 1,\n",
       "         u'First Republic Bank': 1,\n",
       "         u'First Tech Federal Credit Union': 2,\n",
       "         u'Fisher & Paykel Healthcare': 2,\n",
       "         u'Fitbit': 2,\n",
       "         u'FocusKPI Inc.': 3,\n",
       "         u'Fortinet': 17,\n",
       "         u'Freedom Financial Network': 1,\n",
       "         u'FreedomPop': 3,\n",
       "         u'Fujitsu Ten Corp. of America': 1,\n",
       "         u'Fullscreen': 6,\n",
       "         u'Funding Circle': 1,\n",
       "         u'Future Simple': 2,\n",
       "         u'GLOBALFOUNDRIES': 2,\n",
       "         u'Gametime United, Inc.': 6,\n",
       "         u'GenapSys, Inc.': 1,\n",
       "         u'General Atomics and Affiliated Companies': 1,\n",
       "         u'General Electric': 24,\n",
       "         u'Glassdoor': 49,\n",
       "         u'Globant': 2,\n",
       "         u'Goodwin Procter LLP': 1,\n",
       "         u'Google': 12,\n",
       "         u'Grail Research': 1,\n",
       "         u'GreatCall': 1,\n",
       "         u'GreatSchools': 1,\n",
       "         u'Green Chef Corporation': 49,\n",
       "         u'Grid Dynamics': 1,\n",
       "         u'Groupon': 1,\n",
       "         u'Guardant Health': 1,\n",
       "         u'Gwynnie Bee': 2,\n",
       "         u'HBO': 1,\n",
       "         u'HGST': 6,\n",
       "         u'HIRECLOUT': 1,\n",
       "         u'HP': 1,\n",
       "         u'Harbor Freight Tools USA, Inc.': 3,\n",
       "         u'Havas Edge': 1,\n",
       "         u'Heal': 2,\n",
       "         u'Healthcare Talent': 1,\n",
       "         u'Hearst Business Media': 1,\n",
       "         u'Helix': 3,\n",
       "         u'Hoag Memorial Hospital Presbyterian': 1,\n",
       "         u'Hoodline': 1,\n",
       "         u'Hot Topic, Inc.': 1,\n",
       "         u'Hulu': 2,\n",
       "         u'Humboldt State University': 50,\n",
       "         u'Hyperloop One': 2,\n",
       "         u'ICON Aircraft': 1,\n",
       "         u'ICW Group': 2,\n",
       "         u'ID Analytics': 2,\n",
       "         u'ID TECH': 1,\n",
       "         u'IPG Mediabrands': 4,\n",
       "         u'Identity MSO': 2,\n",
       "         u'Incedo': 2,\n",
       "         u'Incusol inc': 1,\n",
       "         u'InfoScout': 1,\n",
       "         u'Information Technology Center': 2,\n",
       "         u'Ingram Micro': 1,\n",
       "         u'Insight Data Science': 2,\n",
       "         u'Insight Recruiting': 1,\n",
       "         u'Instacart': 2,\n",
       "         u'Intel': 5,\n",
       "         u'Intelicare Direct': 24,\n",
       "         u'Intellipro Group Inc.': 2,\n",
       "         u'Introlligent': 1,\n",
       "         u'Intuit': 1,\n",
       "         u'InvenSense': 1,\n",
       "         u'InventiveSMi': 1,\n",
       "         u'J. Craig Venter Institute': 1,\n",
       "         u'JPMorgan Chase': 2,\n",
       "         u'Jaunt VR': 2,\n",
       "         u'Johnson Controls': 1,\n",
       "         u'Judicial Council of California': 6,\n",
       "         u'Juniper Networks': 4,\n",
       "         u'KIPP Foundation': 1,\n",
       "         u'KRG': 2,\n",
       "         u'Kaiser Permanente': 39,\n",
       "         u'Kaweah Delta Health Care District': 1,\n",
       "         u'Kemper Corporation': 1,\n",
       "         u'Kern County': 16,\n",
       "         u\"King's Hawaiian Bakery West, Inc.\": 1,\n",
       "         u'Komodo Health': 201,\n",
       "         u'L.A. Care Health Plan': 1,\n",
       "         u'LA Arena Company LLC': 1,\n",
       "         u'LORAC Cosmetics LLC': 1,\n",
       "         u'Laserfiche': 4,\n",
       "         u'Lat36': 2,\n",
       "         u'Latitude 36 Inc': 1,\n",
       "         u'Latitude 36, Inc - Fremont, CA': 1,\n",
       "         u'Lawrence Berkeley National Laboratory': 1,\n",
       "         u'Leadsmarket.com LLC': 1,\n",
       "         u'Lease Advisors': 1,\n",
       "         u'Ledgent Technology & Engineering': 1,\n",
       "         u'Leidos': 1,\n",
       "         u'LendUp': 1,\n",
       "         u'Lending Club': 1,\n",
       "         u'LendingTree': 1,\n",
       "         u'Lieberman Research Worldwide (LRW)': 1,\n",
       "         u'LifeLock': 1,\n",
       "         u'Lightspeed': 1,\n",
       "         u'Linkage Biosciences': 2,\n",
       "         u'Little Spirits Bay Area': 3,\n",
       "         u'Living Spaces': 1,\n",
       "         u'Lockheed Martin': 7,\n",
       "         u'Loma Linda University': 2,\n",
       "         u'Loma Linda University Shared Services': 3,\n",
       "         u'Los Angeles County Department of Human Resources': 16,\n",
       "         u'Los Angeles County Human Resources': 2,\n",
       "         u'LumenData': 3,\n",
       "         u'Lyft Corporate': 1,\n",
       "         u'Lyons Magnus': 1,\n",
       "         u'MGA Entertainment Inc': 2,\n",
       "         u'MHA, Mental Health Association': 1,\n",
       "         u'MIDCOM': 5,\n",
       "         u'MUFG': 2,\n",
       "         u'MVM': 1,\n",
       "         u'MW Partners': 3,\n",
       "         u'MachineZone': 2,\n",
       "         u\"Macy's\": 1,\n",
       "         u'Marin General Hospital': 1,\n",
       "         u'Marin Software': 1,\n",
       "         u'Matchpoint Solutions': 1,\n",
       "         u'Mattel': 1,\n",
       "         u'Maxton & Company': 16,\n",
       "         u'McKinsey & Company': 1,\n",
       "         u'Mechanics Bank': 1,\n",
       "         u'MedMen': 1,\n",
       "         u'Medallia Inc': 2,\n",
       "         u'Medidata Solutions': 1,\n",
       "         u'Medline Industries Inc': 3,\n",
       "         u'Meggitt': 1,\n",
       "         u'Melodee Ice Cream': 2,\n",
       "         u'Merced County, CA': 2,\n",
       "         u'Mercy Healthcare Sacramento': 1,\n",
       "         u'Microsemi': 2,\n",
       "         u'Microsoft': 2,\n",
       "         u'Milestone Internet Marketing': 1,\n",
       "         u'Miller Kaplan Arase LLP': 1,\n",
       "         u'Mindshare': 1,\n",
       "         u'Miraca Life Sciences, Inc.': 1,\n",
       "         u'Mirum': 3,\n",
       "         u'Mission Federal Credit Union': 2,\n",
       "         u'Mitchell International, Inc.': 1,\n",
       "         u'Molina Healthcare': 8,\n",
       "         u'Morgan Lewis': 2,\n",
       "         u'MorganFranklin': 1,\n",
       "         u\"Mount St. Mary's College\": 1,\n",
       "         u'Move, Inc.': 1,\n",
       "         u'MuleSoft': 1,\n",
       "         u'Myers Media Group': 1,\n",
       "         u'NAI Northern California': 2,\n",
       "         u'NBCUniversal': 2,\n",
       "         u'NCSOFT West': 2,\n",
       "         u'Nauto': 1,\n",
       "         u'Nestl\\xe9 USA': 2,\n",
       "         u'NetApp': 1,\n",
       "         u'NetCloudTek': 1,\n",
       "         u'Netflix': 1,\n",
       "         u'Neustar, Inc.': 2,\n",
       "         u'New Directions Technologies, Inc.': 2,\n",
       "         u'New Relic': 2,\n",
       "         u'New var, Inc.': 2,\n",
       "         u'NewEgg': 2,\n",
       "         u'Niagara Bottling': 2,\n",
       "         u'NinthDecimal': 2,\n",
       "         u'Nordic Naturals, Inc.': 6,\n",
       "         u'Novum Partners': 1,\n",
       "         u'Nuance': 1,\n",
       "         u'OMD': 2,\n",
       "         u'ON Semiconductor': 1,\n",
       "         u'Old Republic Servicing Solutions': 1,\n",
       "         u'Omega Accounting Solutions': 1,\n",
       "         u'OnPoint Analytics, Inc.': 1,\n",
       "         u'OpenMail': 2,\n",
       "         u'OpenTable': 1,\n",
       "         u'Opinion Dynamics': 49,\n",
       "         u'Oracle': 1,\n",
       "         u'Orange County Transportation Authority': 16,\n",
       "         u'Outlook Amusements': 1,\n",
       "         u'PCS Global Tech': 6,\n",
       "         u'PLAYSTUDIOS, Inc.': 1,\n",
       "         u'PRAM Insurance Services, Inc.': 1,\n",
       "         u'Pacific Alliance Medical Center (PAMC)': 2,\n",
       "         u'Palo Alto Networks': 1,\n",
       "         u'Palomar Health': 1,\n",
       "         u'Panda Restaurant Group': 1,\n",
       "         u'Pandora Media, Inc.': 2,\n",
       "         u'Paragon Subrogation Services': 1,\n",
       "         u'Paramedic Plus Alameda County': 2,\n",
       "         u'Park Computer Systems, Inc.': 1,\n",
       "         u'Partnership HealthPlan of CA': 46,\n",
       "         u'Paypal': 3,\n",
       "         u'Payscout, Inc.': 6,\n",
       "         u'PennyMac Loan Services, LLC': 1,\n",
       "         u'Perfect World Entertainment': 1,\n",
       "         u'Pfizer Inc.': 1,\n",
       "         u'PicsArt': 1,\n",
       "         u'Pinterest': 1,\n",
       "         u'Playphone, Inc.': 1,\n",
       "         u'Plaza Home Mortgage': 2,\n",
       "         u'Practice Fusion': 1,\n",
       "         u'Prezi': 2,\n",
       "         u'PriceSpider': 1,\n",
       "         u'Primitive Logic': 3,\n",
       "         u'Progrexion': 1,\n",
       "         u'Prospect Medical Systems': 4,\n",
       "         u'Prosper': 1,\n",
       "         u'Proteus Digital Health': 1,\n",
       "         u'Protingent': 2,\n",
       "         u'Provectus': 2,\n",
       "         u'QuinStreet': 2,\n",
       "         u'Quotient Technology Inc.': 1,\n",
       "         u'Quri': 1,\n",
       "         u'R&D Special Library': 1,\n",
       "         u'REVOLVEclothing': 2,\n",
       "         u'RGL Forensics': 2,\n",
       "         u'RR Donnelley': 2,\n",
       "         u'Radiology Partners': 1,\n",
       "         u\"Rady Children's Hospital - Main Campus\": 2,\n",
       "         u'Rambus': 6,\n",
       "         u'Ranker': 2,\n",
       "         u'Razer Inc.': 1,\n",
       "         u'Regal Medical Group': 1,\n",
       "         u'Renew Financial': 1,\n",
       "         u'Retail Solutions': 2,\n",
       "         u'Ria Financial Services': 1,\n",
       "         u'Riot Games': 6,\n",
       "         u'Risk Management Solutions (RMS)': 2,\n",
       "         u'RiverRock Network': 1,\n",
       "         u'Riverside Community Hospital': 1,\n",
       "         u'Riverside Unified School District': 1,\n",
       "         u'Roche': 2,\n",
       "         u'Rocket Lawyer': 1,\n",
       "         u'Roku': 3,\n",
       "         u'Rumble Entertainment': 1,\n",
       "         u'S.C. International - Actuarial Recruiters': 2,\n",
       "         u'SA LLC': 1,\n",
       "         u'SAIC': 3,\n",
       "         u'SAP': 464,\n",
       "         u'SCAN Health Plan': 6,\n",
       "         u'SEIU United Health Care Workers': 1,\n",
       "         u'SELLBYTEL Group': 1,\n",
       "         u'SERCO INC.': 1,\n",
       "         u'SIX FLAGS': 1,\n",
       "         u'SQA Solution': 1,\n",
       "         u'Sacramento Natural Foods Co-op': 201,\n",
       "         u'Safeway Inc': 2,\n",
       "         u'Salesforce': 2,\n",
       "         u'Samba TV': 1,\n",
       "         u'Samsung': 3,\n",
       "         u'Samsung Research America': 1,\n",
       "         u'Samsung SDSA': 1,\n",
       "         u'San Francisco University High School': 2,\n",
       "         u'SanDisk': 2,\n",
       "         u'Seagate': 2,\n",
       "         u'Segment': 1,\n",
       "         u'Sequoia': 1,\n",
       "         u'ServiceLink': 1,\n",
       "         u'ServiceNow': 4,\n",
       "         u'ServiceTitan, Inc.': 2,\n",
       "         u'Sharp Healthcare': 7,\n",
       "         u'Sharpmist': 3,\n",
       "         u'Shimento INC': 1,\n",
       "         u'Shipt': 5,\n",
       "         u'Shipwire': 1,\n",
       "         u'Sift Science': 2,\n",
       "         u'Signifyd': 2,\n",
       "         u'Silicon Valley Bank': 1,\n",
       "         u'Skillz Inc.': 1,\n",
       "         u'Slack': 1,\n",
       "         u'SoFi': 1,\n",
       "         u'Solugenix Corporation': 2,\n",
       "         u'Sonoma Valley Hospital': 1,\n",
       "         u'Sony Interactive Entertainment PlayStation': 3,\n",
       "         u'Sony Pictures Entertainment Inc.': 1,\n",
       "         u'Sotera Wireless, Inc.': 6,\n",
       "         u'Southern California Edison': 1,\n",
       "         u'Southern Glazer\\u2019s Wine and Spirits': 2,\n",
       "         u'Spencer Reed Consulting, LLC': 1,\n",
       "         u'Spin Master': 5,\n",
       "         u'Spokeo': 1,\n",
       "         u'Sprint Store by ArchTelecom': 1,\n",
       "         u'Square': 3,\n",
       "         u'Sriven Systems Inc.,': 1,\n",
       "         u'Staffing Industry Analysts': 1,\n",
       "         u'Stamps.com': 24,\n",
       "         u'Stanford University': 6,\n",
       "         u'Starcrest Products Of California': 1,\n",
       "         u'Stem Inc': 1,\n",
       "         u'Stitch Fix': 2,\n",
       "         u'Strategic Employment Partners': 5,\n",
       "         u'Study.com': 1,\n",
       "         u'Sugar Foods Corporation': 2,\n",
       "         u'Sugar Foods Corporation (Fresh Gourmet Division)': 1,\n",
       "         u'Sun Basket': 189,\n",
       "         u'Sunsweet Growers Inc.': 49,\n",
       "         u'Super Micro Computer, Inc.': 1,\n",
       "         u'Sutter Health': 3,\n",
       "         u'Synopsys': 1,\n",
       "         u'Syntelli Solutions': 2,\n",
       "         u'SysIntelli': 2,\n",
       "         u'T-Solutions, Inc.': 2,\n",
       "         u'T. Hasegawa USA, Inc.': 1,\n",
       "         u'T3W Business Solutions, Inc.': 2,\n",
       "         u'TITAN Environmental Solutions, Inc.': 1,\n",
       "         u'TLA LLC': 1,\n",
       "         u'TVG Network Betfair US': 1,\n",
       "         u'TW Metals': 2,\n",
       "         u'Taboola': 2,\n",
       "         u'TacInsight': 1,\n",
       "         u'Tailored Brands': 3,\n",
       "         u'Talent Merchants': 1,\n",
       "         u'Talkdesk': 2,\n",
       "         u'TaylorMade': 2,\n",
       "         u'TechLink Systems Inc.': 1,\n",
       "         u'Tehama County Department of Social Services - Meri...': 1,\n",
       "         u'Tekshapers Inc': 1,\n",
       "         u'Ten-X': 2,\n",
       "         u'Teradata': 1,\n",
       "         u'TerranearPMC, LLC': 1,\n",
       "         u'Tesla Motors': 11,\n",
       "         u'TextNow': 1,\n",
       "         u'The Aerospace Corporation': 1,\n",
       "         u'The Newport Group': 1,\n",
       "         u'The Solis Group': 1,\n",
       "         u'The Walt Disney Studios': 2,\n",
       "         u'The Wonderful Company LLC': 1,\n",
       "         u'TheInboxExperts LLC': 2,\n",
       "         u'Thermo Fisher Scientific': 1,\n",
       "         u'Thomson Reuters': 2,\n",
       "         u'ThousandEyes': 2,\n",
       "         u'ThreatMetrix': 1,\n",
       "         u'Thumbtack': 1,\n",
       "         u'Tinder': 1,\n",
       "         u'TinyCo': 1,\n",
       "         u'Toca Boca': 1,\n",
       "         u'Torrance Memorial Medical Center': 2,\n",
       "         u'Tri Counties Bank': 2,\n",
       "         u'Trianz': 1,\n",
       "         u'Trimble Inc.': 1,\n",
       "         u'TrueCar, Inc.': 2,\n",
       "         u'Twentieth Century Fox': 1,\n",
       "         u'Twist Bioscience': 1,\n",
       "         u'Twitch': 3,\n",
       "         u'U.S. Bank': 1,\n",
       "         u'UC DAVIS HEALTH SYSTEM': 2,\n",
       "         u'UC San Diego': 32,\n",
       "         u'UCLA': 4,\n",
       "         u'UCLA Health': 2,\n",
       "         u'UTC Aerospace Systems': 2,\n",
       "         u'Uber': 2,\n",
       "         u'Ubertal': 2,\n",
       "         u'Unitek Information Systems': 1,\n",
       "         u'University of California - Irvine': 2,\n",
       "         u'University of California San Francisco': 5,\n",
       "         u'University of California San Francisco Medical Cen...': 1,\n",
       "         u'University of California, Berkeley': 2,\n",
       "         u'University of California, Davis': 2,\n",
       "         u'University of California, Santa Barbara': 3,\n",
       "         u'University of La Verne': 2,\n",
       "         u'Upstart': 5,\n",
       "         u'VF Corporation': 1,\n",
       "         u'VIZIO': 2,\n",
       "         u'VMware': 1,\n",
       "         u'Valiantica': 2,\n",
       "         u'Vbridge Global LLC': 1,\n",
       "         u'Velocify': 1,\n",
       "         u'Verus Financial': 1,\n",
       "         u'Veterans Sourcing Group': 3,\n",
       "         u'ViaSat': 1,\n",
       "         u'Viant': 1,\n",
       "         u'Visa': 8,\n",
       "         u'Vungle': 2,\n",
       "         u'WJ & Company': 1,\n",
       "         u'WRKSHP': 2,\n",
       "         u'Walker and Company': 1,\n",
       "         u'Walmart eCommerce': 7,\n",
       "         u'Wargaming America': 5,\n",
       "         u'Warner Bros. Entertainment Group': 21,\n",
       "         u'Washington Hospital': 1,\n",
       "         u'Western Alliance Bank': 1,\n",
       "         u'Western Digital': 2,\n",
       "         u'Whittier Hospital Medical Center': 2,\n",
       "         u'Wilshire Associates Incorporated': 1,\n",
       "         u'Winplus North America, Inc.': 2,\n",
       "         u'Wish': 1,\n",
       "         u'WorkMonger client': 1,\n",
       "         u'World Poker Tour (WPT)': 2,\n",
       "         u'Wpromote': 2,\n",
       "         u'YDesign Group': 1,\n",
       "         u'Yahoo! Inc.': 2,\n",
       "         u'Yardi Systems, Inc.': 2,\n",
       "         u'Yelp': 1,\n",
       "         u'ZS Associates': 1,\n",
       "         u'Zeek Technologies': 1,\n",
       "         u'Zen': 2,\n",
       "         u'addastaff': 1,\n",
       "         u'be.group': 1,\n",
       "         u'broTECH Solutions LLC': 1,\n",
       "         u'comScore': 1,\n",
       "         u'dotloop': 1,\n",
       "         u'eBay Inc.': 1,\n",
       "         u'eNamix Inc.': 1,\n",
       "         u'eTeam Inc.': 1,\n",
       "         u'eTouch Systems Corp': 2,\n",
       "         u'empowr': 1,\n",
       "         u'etouch': 1,\n",
       "         u'iConvergenceSolutions': 1,\n",
       "         u'iRhythm': 1,\n",
       "         u'iSoftStone North America': 1,\n",
       "         u'j2 Cloud Services': 1,\n",
       "         u'omega solutions inc': 1,\n",
       "         u'realtor.com': 1,\n",
       "         u'thredUP Inc': 2,\n",
       "         u'tispr': 1,\n",
       "         u'wine shipping': 1})"
      ]
     },
     "execution_count": 9,
     "metadata": {},
     "output_type": "execute_result"
    }
   ],
   "source": [
    "cls.Counter(names_fn)#examine names"
   ]
  },
  {
   "cell_type": "code",
   "execution_count": 196,
   "metadata": {
    "collapsed": true
   },
   "outputs": [],
   "source": [
    "import pandas as pd"
   ]
  },
  {
   "cell_type": "code",
   "execution_count": 11,
   "metadata": {
    "collapsed": false
   },
   "outputs": [],
   "source": [
    "job_info=[pd.DataFrame(get_content(url) for url in urls )] #get text for each post"
   ]
  },
  {
   "cell_type": "code",
   "execution_count": 12,
   "metadata": {
    "collapsed": false
   },
   "outputs": [],
   "source": [
    "job_info_fn=pd.concat(job_info)"
   ]
  },
  {
   "cell_type": "code",
   "execution_count": 13,
   "metadata": {
    "collapsed": false
   },
   "outputs": [
    {
     "data": {
      "text/html": [
       "<div>\n",
       "<table border=\"1\" class=\"dataframe\">\n",
       "  <thead>\n",
       "    <tr style=\"text-align: right;\">\n",
       "      <th></th>\n",
       "      <th>text</th>\n",
       "      <th>url</th>\n",
       "    </tr>\n",
       "  </thead>\n",
       "  <tbody>\n",
       "    <tr>\n",
       "      <th>0</th>\n",
       "      <td>\\n\\n\\n\\n\\n\\n\\nSAP is committed to the principl...</td>\n",
       "      <td>https://www.indeed.com/pagead/clk?mo=r&amp;ad=-6NY...</td>\n",
       "    </tr>\n",
       "    <tr>\n",
       "      <th>1</th>\n",
       "      <td>Skip to Job Description, SearchClose\\n\\n      ...</td>\n",
       "      <td>https://www.indeed.com/pagead/clk?mo=r&amp;ad=-6NY...</td>\n",
       "    </tr>\n",
       "    <tr>\n",
       "      <th>2</th>\n",
       "      <td>Skip to Job Description, SearchClose\\n\\n      ...</td>\n",
       "      <td>https://www.indeed.com/pagead/clk?mo=r&amp;ad=-6NY...</td>\n",
       "    </tr>\n",
       "    <tr>\n",
       "      <th>3</th>\n",
       "      <td>\\n\\n\\n\\n\\n\\n\\n\\n\\n\\n\\nCareers HomeEmployment L...</td>\n",
       "      <td>https://www.indeed.com/rc/clk?jk=84bc38d534438...</td>\n",
       "    </tr>\n",
       "    <tr>\n",
       "      <th>4</th>\n",
       "      <td>Entry Level Business AnalystCalifornia City, C...</td>\n",
       "      <td>https://www.indeed.com/rc/clk?jk=4c0b2bbed6002...</td>\n",
       "    </tr>\n",
       "  </tbody>\n",
       "</table>\n",
       "</div>"
      ],
      "text/plain": [
       "                                                text  \\\n",
       "0  \\n\\n\\n\\n\\n\\n\\nSAP is committed to the principl...   \n",
       "1  Skip to Job Description, SearchClose\\n\\n      ...   \n",
       "2  Skip to Job Description, SearchClose\\n\\n      ...   \n",
       "3  \\n\\n\\n\\n\\n\\n\\n\\n\\n\\n\\nCareers HomeEmployment L...   \n",
       "4  Entry Level Business AnalystCalifornia City, C...   \n",
       "\n",
       "                                                 url  \n",
       "0  https://www.indeed.com/pagead/clk?mo=r&ad=-6NY...  \n",
       "1  https://www.indeed.com/pagead/clk?mo=r&ad=-6NY...  \n",
       "2  https://www.indeed.com/pagead/clk?mo=r&ad=-6NY...  \n",
       "3  https://www.indeed.com/rc/clk?jk=84bc38d534438...  \n",
       "4  https://www.indeed.com/rc/clk?jk=4c0b2bbed6002...  "
      ]
     },
     "execution_count": 13,
     "metadata": {},
     "output_type": "execute_result"
    }
   ],
   "source": [
    "job_info_fn.head()"
   ]
  },
  {
   "cell_type": "code",
   "execution_count": 14,
   "metadata": {
    "collapsed": false
   },
   "outputs": [],
   "source": [
    "job_info_fn['loc']=locs #add locations"
   ]
  },
  {
   "cell_type": "code",
   "execution_count": 15,
   "metadata": {
    "collapsed": false
   },
   "outputs": [],
   "source": [
    "job_info_fn['name']=names_fn #add names"
   ]
  },
  {
   "cell_type": "markdown",
   "metadata": {},
   "source": [
    "After combining the information about the jobs, we get dataframe."
   ]
  },
  {
   "cell_type": "code",
   "execution_count": 16,
   "metadata": {
    "collapsed": false
   },
   "outputs": [
    {
     "data": {
      "text/html": [
       "<div>\n",
       "<table border=\"1\" class=\"dataframe\">\n",
       "  <thead>\n",
       "    <tr style=\"text-align: right;\">\n",
       "      <th></th>\n",
       "      <th>text</th>\n",
       "      <th>url</th>\n",
       "      <th>loc</th>\n",
       "      <th>name</th>\n",
       "    </tr>\n",
       "  </thead>\n",
       "  <tbody>\n",
       "    <tr>\n",
       "      <th>0</th>\n",
       "      <td>\\n\\n\\n\\n\\n\\n\\nSAP is committed to the principl...</td>\n",
       "      <td>https://www.indeed.com/pagead/clk?mo=r&amp;ad=-6NY...</td>\n",
       "      <td>San Francisco, CA</td>\n",
       "      <td>SAP</td>\n",
       "    </tr>\n",
       "    <tr>\n",
       "      <th>1</th>\n",
       "      <td>Skip to Job Description, SearchClose\\n\\n      ...</td>\n",
       "      <td>https://www.indeed.com/pagead/clk?mo=r&amp;ad=-6NY...</td>\n",
       "      <td>San Francisco, CA</td>\n",
       "      <td>Sun Basket</td>\n",
       "    </tr>\n",
       "    <tr>\n",
       "      <th>2</th>\n",
       "      <td>Skip to Job Description, SearchClose\\n\\n      ...</td>\n",
       "      <td>https://www.indeed.com/pagead/clk?mo=r&amp;ad=-6NY...</td>\n",
       "      <td>San Francisco, CA</td>\n",
       "      <td>Komodo Health</td>\n",
       "    </tr>\n",
       "    <tr>\n",
       "      <th>3</th>\n",
       "      <td>\\n\\n\\n\\n\\n\\n\\n\\n\\n\\n\\nCareers HomeEmployment L...</td>\n",
       "      <td>https://www.indeed.com/rc/clk?jk=84bc38d534438...</td>\n",
       "      <td>Sunnyvale, CA</td>\n",
       "      <td>Astreya</td>\n",
       "    </tr>\n",
       "  </tbody>\n",
       "</table>\n",
       "</div>"
      ],
      "text/plain": [
       "                                                text  \\\n",
       "0  \\n\\n\\n\\n\\n\\n\\nSAP is committed to the principl...   \n",
       "1  Skip to Job Description, SearchClose\\n\\n      ...   \n",
       "2  Skip to Job Description, SearchClose\\n\\n      ...   \n",
       "3  \\n\\n\\n\\n\\n\\n\\n\\n\\n\\n\\nCareers HomeEmployment L...   \n",
       "\n",
       "                                                 url                loc  \\\n",
       "0  https://www.indeed.com/pagead/clk?mo=r&ad=-6NY...  San Francisco, CA   \n",
       "1  https://www.indeed.com/pagead/clk?mo=r&ad=-6NY...  San Francisco, CA   \n",
       "2  https://www.indeed.com/pagead/clk?mo=r&ad=-6NY...  San Francisco, CA   \n",
       "3  https://www.indeed.com/rc/clk?jk=84bc38d534438...      Sunnyvale, CA   \n",
       "\n",
       "            name  \n",
       "0            SAP  \n",
       "1     Sun Basket  \n",
       "2  Komodo Health  \n",
       "3        Astreya  "
      ]
     },
     "execution_count": 16,
     "metadata": {},
     "output_type": "execute_result"
    }
   ],
   "source": [
    "job_info_fn.head(4)"
   ]
  },
  {
   "cell_type": "markdown",
   "metadata": {},
   "source": [
    "## * <span style=\"color:blue\">Data Cleaning</span>  *"
   ]
  },
  {
   "cell_type": "markdown",
   "metadata": {},
   "source": [
    "Our goal is to find the common required or prefered skills for data scientist in California, so we remove the posts without mentioning * <span style=\"color:blue\">analy</span>  *. After subset, we have 2455 observations in the data."
   ]
  },
  {
   "cell_type": "code",
   "execution_count": 187,
   "metadata": {
    "collapsed": true
   },
   "outputs": [],
   "source": [
    "requirements= job_info_fn['require']"
   ]
  },
  {
   "cell_type": "code",
   "execution_count": 188,
   "metadata": {
    "collapsed": true
   },
   "outputs": [],
   "source": [
    "idx=[(x.find(\"analy\"))>-1 for x in requirements]"
   ]
  },
  {
   "cell_type": "code",
   "execution_count": 189,
   "metadata": {
    "collapsed": true
   },
   "outputs": [],
   "source": [
    "job_analyst=job_info_fn[idx]"
   ]
  },
  {
   "cell_type": "code",
   "execution_count": 190,
   "metadata": {
    "collapsed": false
   },
   "outputs": [
    {
     "data": {
      "text/plain": [
       "2455"
      ]
     },
     "execution_count": 190,
     "metadata": {},
     "output_type": "execute_result"
    }
   ],
   "source": [
    "len(job_analyst)"
   ]
  },
  {
   "cell_type": "markdown",
   "metadata": {},
   "source": [
    "Generally, the skills required are in the descripttions of job requirments. We first find the requirements from the job description. Sometimes, the requirements strat with key words like__* <span style=\"color:red\">require, skill, qualification, qualify</span>  * __, we locate requirements by these words. While some posts have other rare pattern, we just keep the whole description."
   ]
  },
  {
   "cell_type": "code",
   "execution_count": 17,
   "metadata": {
    "collapsed": true
   },
   "outputs": [],
   "source": [
    "#remove new lines\n",
    "def find_require(text):\n",
    "    '''\n",
    "    This function find requirements.\n",
    "    If key words for requirements are find, we keep the part from key words\n",
    "    else return the whole description\n",
    "    '''\n",
    "    try:\n",
    "        new=(text.strip()).replace(\"\\n\",\" \")\n",
    "        new_low=(new.lower()).translate({ 0x2018:0x27, 0x2019:0x27, 0x201C:0x22, 0x201D:0x22, 0x2026:0x20 })\n",
    "        require=re.search(\"(require|skill|qualification|qualify).+(apply)?\",new_low)\n",
    "    except:\n",
    "        return \"\"\n",
    "    if require==None:\n",
    "        return new_low\n",
    "    else:\n",
    "        requirement=require.group(0)\n",
    "    return requirement"
   ]
  },
  {
   "cell_type": "code",
   "execution_count": 18,
   "metadata": {
    "collapsed": false
   },
   "outputs": [],
   "source": [
    "job_info_fn['require']=[find_require(x) for x in job_info_fn['text']]"
   ]
  },
  {
   "cell_type": "code",
   "execution_count": 19,
   "metadata": {
    "collapsed": false
   },
   "outputs": [
    {
     "data": {
      "text/html": [
       "<div>\n",
       "<table border=\"1\" class=\"dataframe\">\n",
       "  <thead>\n",
       "    <tr style=\"text-align: right;\">\n",
       "      <th></th>\n",
       "      <th>text</th>\n",
       "      <th>url</th>\n",
       "      <th>loc</th>\n",
       "      <th>name</th>\n",
       "      <th>require</th>\n",
       "    </tr>\n",
       "  </thead>\n",
       "  <tbody>\n",
       "    <tr>\n",
       "      <th>0</th>\n",
       "      <td>\\n\\n\\n\\n\\n\\n\\nSAP is committed to the principl...</td>\n",
       "      <td>https://www.indeed.com/pagead/clk?mo=r&amp;ad=-6NY...</td>\n",
       "      <td>San Francisco, CA</td>\n",
       "      <td>SAP</td>\n",
       "      <td>sap is committed to the principles of equal em...</td>\n",
       "    </tr>\n",
       "    <tr>\n",
       "      <th>1</th>\n",
       "      <td>Skip to Job Description, SearchClose\\n\\n      ...</td>\n",
       "      <td>https://www.indeed.com/pagead/clk?mo=r&amp;ad=-6NY...</td>\n",
       "      <td>San Francisco, CA</td>\n",
       "      <td>Sun Basket</td>\n",
       "      <td>required with a strong preference for an analy...</td>\n",
       "    </tr>\n",
       "    <tr>\n",
       "      <th>2</th>\n",
       "      <td>Skip to Job Description, SearchClose\\n\\n      ...</td>\n",
       "      <td>https://www.indeed.com/pagead/clk?mo=r&amp;ad=-6NY...</td>\n",
       "      <td>San Francisco, CA</td>\n",
       "      <td>Komodo Health</td>\n",
       "      <td>requirementsqualificationsbs, ms, or phd in co...</td>\n",
       "    </tr>\n",
       "    <tr>\n",
       "      <th>3</th>\n",
       "      <td>\\n\\n\\n\\n\\n\\n\\n\\n\\n\\n\\nCareers HomeEmployment L...</td>\n",
       "      <td>https://www.indeed.com/rc/clk?jk=84bc38d534438...</td>\n",
       "      <td>Sunnyvale, CA</td>\n",
       "      <td>Astreya</td>\n",
       "      <td>skills. we need sound data analysis skills and...</td>\n",
       "    </tr>\n",
       "    <tr>\n",
       "      <th>4</th>\n",
       "      <td>Entry Level Business AnalystCalifornia City, C...</td>\n",
       "      <td>https://www.indeed.com/rc/clk?jk=4c0b2bbed6002...</td>\n",
       "      <td>California City, CA</td>\n",
       "      <td>NetCloudTek</td>\n",
       "      <td>qualificationsbachlors degree. major in financ...</td>\n",
       "    </tr>\n",
       "  </tbody>\n",
       "</table>\n",
       "</div>"
      ],
      "text/plain": [
       "                                                text  \\\n",
       "0  \\n\\n\\n\\n\\n\\n\\nSAP is committed to the principl...   \n",
       "1  Skip to Job Description, SearchClose\\n\\n      ...   \n",
       "2  Skip to Job Description, SearchClose\\n\\n      ...   \n",
       "3  \\n\\n\\n\\n\\n\\n\\n\\n\\n\\n\\nCareers HomeEmployment L...   \n",
       "4  Entry Level Business AnalystCalifornia City, C...   \n",
       "\n",
       "                                                 url                  loc  \\\n",
       "0  https://www.indeed.com/pagead/clk?mo=r&ad=-6NY...    San Francisco, CA   \n",
       "1  https://www.indeed.com/pagead/clk?mo=r&ad=-6NY...    San Francisco, CA   \n",
       "2  https://www.indeed.com/pagead/clk?mo=r&ad=-6NY...    San Francisco, CA   \n",
       "3  https://www.indeed.com/rc/clk?jk=84bc38d534438...        Sunnyvale, CA   \n",
       "4  https://www.indeed.com/rc/clk?jk=4c0b2bbed6002...  California City, CA   \n",
       "\n",
       "            name                                            require  \n",
       "0            SAP  sap is committed to the principles of equal em...  \n",
       "1     Sun Basket  required with a strong preference for an analy...  \n",
       "2  Komodo Health  requirementsqualificationsbs, ms, or phd in co...  \n",
       "3        Astreya  skills. we need sound data analysis skills and...  \n",
       "4    NetCloudTek  qualificationsbachlors degree. major in financ...  "
      ]
     },
     "execution_count": 19,
     "metadata": {},
     "output_type": "execute_result"
    }
   ],
   "source": [
    "job_info_fn.head()"
   ]
  },
  {
   "cell_type": "code",
   "execution_count": 24,
   "metadata": {
    "collapsed": true
   },
   "outputs": [],
   "source": [
    "job_analyst.to_csv(\"data_analyst.csv\", sep=',',encoding='utf-8')"
   ]
  },
  {
   "cell_type": "code",
   "execution_count": 182,
   "metadata": {
    "collapsed": true
   },
   "outputs": [],
   "source": [
    "# we export data and read it to avoid repeatedly run code\n",
    "job_analyst=pd.read_csv(\"C:\\\\Users\\\\aran\\\\Documents\\\\stat141B\\\\project\\\\jobs_analyst.csv\")"
   ]
  },
  {
   "cell_type": "markdown",
   "metadata": {},
   "source": [
    "## * <span style=\"color:blue\">Data processing</span>  *"
   ]
  },
  {
   "cell_type": "markdown",
   "metadata": {},
   "source": [
    "Initially, we examine the difference of job opportunity is CA. We plot distribution of the posts on the map. We set point size according to the number of posts(jobs) in the city. The larger the size, the more employment opportunity in that city."
   ]
  },
  {
   "cell_type": "code",
   "execution_count": 183,
   "metadata": {
    "collapsed": true
   },
   "outputs": [],
   "source": [
    "#clean for city\n",
    "citys=[re.sub('(.+),.*','\\\\1',x) for x in job_analyst['loc']] #only keep city name"
   ]
  },
  {
   "cell_type": "code",
   "execution_count": 204,
   "metadata": {
    "collapsed": false
   },
   "outputs": [],
   "source": [
    "city_count=cls.Counter(citys)"
   ]
  },
  {
   "cell_type": "code",
   "execution_count": 206,
   "metadata": {
    "collapsed": false
   },
   "outputs": [],
   "source": [
    "city_fn=pd.DataFrame.from_dict(city_count,orient='index')"
   ]
  },
  {
   "cell_type": "code",
   "execution_count": 207,
   "metadata": {
    "collapsed": true
   },
   "outputs": [],
   "source": [
    "city_fn.columns=['counts']"
   ]
  },
  {
   "cell_type": "code",
   "execution_count": 208,
   "metadata": {
    "collapsed": true
   },
   "outputs": [],
   "source": [
    "city_fn['city']=city_fn.index"
   ]
  },
  {
   "cell_type": "code",
   "execution_count": 209,
   "metadata": {
    "collapsed": true
   },
   "outputs": [],
   "source": [
    "city_fn=city_fn.set_index([range(len(city_fn))])"
   ]
  },
  {
   "cell_type": "code",
   "execution_count": 210,
   "metadata": {
    "collapsed": false
   },
   "outputs": [
    {
     "data": {
      "text/html": [
       "<div>\n",
       "<table border=\"1\" class=\"dataframe\">\n",
       "  <thead>\n",
       "    <tr style=\"text-align: right;\">\n",
       "      <th></th>\n",
       "      <th>counts</th>\n",
       "      <th>city</th>\n",
       "    </tr>\n",
       "  </thead>\n",
       "  <tbody>\n",
       "    <tr>\n",
       "      <th>0</th>\n",
       "      <td>3</td>\n",
       "      <td>Westlake Village</td>\n",
       "    </tr>\n",
       "    <tr>\n",
       "      <th>1</th>\n",
       "      <td>3</td>\n",
       "      <td>Newark</td>\n",
       "    </tr>\n",
       "    <tr>\n",
       "      <th>2</th>\n",
       "      <td>4</td>\n",
       "      <td>Loma Linda</td>\n",
       "    </tr>\n",
       "    <tr>\n",
       "      <th>3</th>\n",
       "      <td>672</td>\n",
       "      <td>San Francisco</td>\n",
       "    </tr>\n",
       "    <tr>\n",
       "      <th>4</th>\n",
       "      <td>1</td>\n",
       "      <td>Contra Costa County</td>\n",
       "    </tr>\n",
       "  </tbody>\n",
       "</table>\n",
       "</div>"
      ],
      "text/plain": [
       "   counts                 city\n",
       "0       3     Westlake Village\n",
       "1       3               Newark\n",
       "2       4           Loma Linda\n",
       "3     672        San Francisco\n",
       "4       1  Contra Costa County"
      ]
     },
     "execution_count": 210,
     "metadata": {},
     "output_type": "execute_result"
    }
   ],
   "source": [
    "city_fn.head()"
   ]
  },
  {
   "cell_type": "markdown",
   "metadata": {},
   "source": [
    "Then, we set size according to the number of posts of the city."
   ]
  },
  {
   "cell_type": "code",
   "execution_count": 211,
   "metadata": {
    "collapsed": true
   },
   "outputs": [],
   "source": [
    "def city_size(number):\n",
    "    if number>600:\n",
    "        return 10\n",
    "    elif number>200:\n",
    "        return 6\n",
    "    elif number>100:\n",
    "        return 5\n",
    "    elif number>80:\n",
    "        return 4\n",
    "    elif number>50:\n",
    "        return 3\n",
    "    elif number>30:\n",
    "        return 2\n",
    "    elif number>10:\n",
    "        return 1\n",
    "    else:\n",
    "        return 0.5\n",
    "        "
   ]
  },
  {
   "cell_type": "code",
   "execution_count": 213,
   "metadata": {
    "collapsed": false
   },
   "outputs": [
    {
     "data": {
      "text/html": [
       "<div>\n",
       "<table border=\"1\" class=\"dataframe\">\n",
       "  <thead>\n",
       "    <tr style=\"text-align: right;\">\n",
       "      <th></th>\n",
       "      <th>counts</th>\n",
       "      <th>city</th>\n",
       "      <th>size</th>\n",
       "    </tr>\n",
       "  </thead>\n",
       "  <tbody>\n",
       "    <tr>\n",
       "      <th>0</th>\n",
       "      <td>3</td>\n",
       "      <td>Westlake Village</td>\n",
       "      <td>0.5</td>\n",
       "    </tr>\n",
       "    <tr>\n",
       "      <th>1</th>\n",
       "      <td>3</td>\n",
       "      <td>Newark</td>\n",
       "      <td>0.5</td>\n",
       "    </tr>\n",
       "    <tr>\n",
       "      <th>2</th>\n",
       "      <td>4</td>\n",
       "      <td>Loma Linda</td>\n",
       "      <td>0.5</td>\n",
       "    </tr>\n",
       "    <tr>\n",
       "      <th>3</th>\n",
       "      <td>672</td>\n",
       "      <td>San Francisco</td>\n",
       "      <td>10.0</td>\n",
       "    </tr>\n",
       "    <tr>\n",
       "      <th>4</th>\n",
       "      <td>1</td>\n",
       "      <td>Contra Costa County</td>\n",
       "      <td>0.5</td>\n",
       "    </tr>\n",
       "  </tbody>\n",
       "</table>\n",
       "</div>"
      ],
      "text/plain": [
       "   counts                 city  size\n",
       "0       3     Westlake Village   0.5\n",
       "1       3               Newark   0.5\n",
       "2       4           Loma Linda   0.5\n",
       "3     672        San Francisco  10.0\n",
       "4       1  Contra Costa County   0.5"
      ]
     },
     "execution_count": 213,
     "metadata": {},
     "output_type": "execute_result"
    }
   ],
   "source": [
    "city_fn['size']=[city_size(x) for x in city_fn['counts']]\n",
    "\n",
    "city_fn.head()"
   ]
  },
  {
   "cell_type": "code",
   "execution_count": null,
   "metadata": {
    "collapsed": true
   },
   "outputs": [],
   "source": [
    "#map"
   ]
  },
  {
   "cell_type": "markdown",
   "metadata": {},
   "source": [
    "First, we figure out what is the min of working experience required and what will be the lowest degree"
   ]
  },
  {
   "cell_type": "markdown",
   "metadata": {},
   "source": [
    "We get years of experience and degree in the requirment by regular expression. For years of experience, generally, it comes with years following. Then pattern is like __* <span style=\"color:red\">x-x years</span>  * __ or __* <span style=\"color:red\">x years</span>  * __. Since years mentioned in the job description are close and the one mentioned first is likely to be the minumum working exprience, we choose the first one as years of experience. When it comes for degree, we also choose the first one for the reason that the first mentioned degree will be the minumum requirement."
   ]
  },
  {
   "cell_type": "code",
   "execution_count": 32,
   "metadata": {
    "collapsed": false
   },
   "outputs": [],
   "source": [
    "job_analyst['year']=[re.sub('(.+)([0-9]{1,2}-? *[0-9]{1,2}.*year.{0,30})(.*)','\\\\2',x) for x in (job_analyst['require_fn'])]"
   ]
  },
  {
   "cell_type": "code",
   "execution_count": 34,
   "metadata": {
    "collapsed": true
   },
   "outputs": [],
   "source": [
    "def get_year(text):\n",
    "    '''\n",
    "    This function get year from text.\n",
    "    '''\n",
    "    year_temp=re.match(\"[0-9]+\",text)\n",
    "    if year_temp==None:\n",
    "        return 0\n",
    "    else:\n",
    "        return year_temp.group(0)"
   ]
  },
  {
   "cell_type": "code",
   "execution_count": 39,
   "metadata": {
    "collapsed": false
   },
   "outputs": [],
   "source": [
    "job_analyst['year']=[get_year(x) for x in job_analyst['year']]"
   ]
  },
  {
   "cell_type": "code",
   "execution_count": 41,
   "metadata": {
    "collapsed": false
   },
   "outputs": [
    {
     "data": {
      "text/plain": [
       "8"
      ]
     },
     "execution_count": 41,
     "metadata": {},
     "output_type": "execute_result"
    }
   ],
   "source": [
    "max(job_analyst['year'])"
   ]
  },
  {
   "cell_type": "markdown",
   "metadata": {},
   "source": [
    "Then, we group year as 3 groups: less than 2, 3-5 and greater than 5:"
   ]
  },
  {
   "cell_type": "code",
   "execution_count": 215,
   "metadata": {
    "collapsed": true
   },
   "outputs": [],
   "source": [
    "def year_group(year):\n",
    "    '''\n",
    "    This function group year accroding to the input.\n",
    "    '''\n",
    "    if year>5:\n",
    "        return \"greater than 5\"\n",
    "    elif year>3:\n",
    "        return \"3-5\"\n",
    "    else:\n",
    "        return \"less than 2\""
   ]
  },
  {
   "cell_type": "code",
   "execution_count": 217,
   "metadata": {
    "collapsed": false
   },
   "outputs": [],
   "source": [
    "job_analyst[\"year_group\"]=[year_group(year) for year in job_analyst['year']]"
   ]
  },
  {
   "cell_type": "markdown",
   "metadata": {},
   "source": [
    "Next, we find degree. The  common pattern are: __* <span style=\"color:red\">bachelor, ms, phd, bs, master, ba</span>  * __ . We extract these pattern from the requirement."
   ]
  },
  {
   "cell_type": "code",
   "execution_count": 127,
   "metadata": {
    "collapsed": true
   },
   "outputs": [],
   "source": [
    "job_analyst['degree']=[get_degree(x) for x in job_analyst['require_fn']]\n",
    "\n",
    "def get_degree(text):\n",
    "    '''\n",
    "    This function get degree from text.\n",
    "    '''\n",
    "    degree_temp=re.search(\"bachelor|ms|phd|bs|master|ba\",text)\n",
    "    if degree_temp==None:\n",
    "        return None\n",
    "    else:\n",
    "        degree_temp=degree_temp.group(0)\n",
    "        if degree_temp=='bs':\n",
    "            return \"bachelor\"\n",
    "        elif degree_temp==\"ms\":\n",
    "            return \"master\"\n",
    "        else:\n",
    "            return 'phd'"
   ]
  },
  {
   "cell_type": "code",
   "execution_count": 79,
   "metadata": {
    "collapsed": false
   },
   "outputs": [],
   "source": [
    "#process\n",
    "import numpy as np\n",
    "import nltk\n",
    "from nltk import corpus\n",
    "from nltk.stem.porter import PorterStemmer\n",
    "from sklearn.feature_extraction.text import TfidfVectorizer\n",
    "from sklearn.neighbors import NearestNeighbors\n",
    "from matplotlib import pyplot as plt\n",
    "plt.style.use('ggplot')\n",
    "%matplotlib inline"
   ]
  },
  {
   "cell_type": "markdown",
   "metadata": {},
   "source": [
    "## * <span style=\"color:blue\">Natural Languege Processing</span>  *"
   ]
  },
  {
   "cell_type": "markdown",
   "metadata": {},
   "source": [
    "To find the common required skills, we need to find the idf for each word. Then, we select skills with small idf since the smaller the idf, the more common a certain skill is in these posts."
   ]
  },
  {
   "cell_type": "code",
   "execution_count": 218,
   "metadata": {
    "collapsed": true
   },
   "outputs": [],
   "source": [
    "stemmer = PorterStemmer().stem\n",
    "\n",
    "tokenize = nltk.word_tokenize\n",
    "\n",
    "def stem(tokens,stemmer = PorterStemmer().stem):\n",
    "    return [stemmer(w.lower()) for w in tokens] \n",
    "\n",
    "def lemmatize(text):\n",
    "    \"\"\"\n",
    "    Extract simple lemmas based on tokenization and stemming\n",
    "    Input: string\n",
    "    Output: list of strings (lemmata)\n",
    "    \"\"\"\n",
    "    return stem(tokenize(text))"
   ]
  },
  {
   "cell_type": "markdown",
   "metadata": {},
   "source": [
    "### * <span style=\"color:blue\">Caculate idf </span>  *"
   ]
  },
  {
   "cell_type": "code",
   "execution_count": 227,
   "metadata": {
    "collapsed": false
   },
   "outputs": [],
   "source": [
    "vectorizer = TfidfVectorizer(tokenizer=lemmatize,stop_words=\"english\",smooth_idf=True,norm=None)\n",
    "tfs = vectorizer.fit_transform(job_analyst['require'])"
   ]
  },
  {
   "cell_type": "code",
   "execution_count": 228,
   "metadata": {
    "collapsed": true
   },
   "outputs": [],
   "source": [
    "words=vectorizer.vocabulary_"
   ]
  },
  {
   "cell_type": "code",
   "execution_count": 229,
   "metadata": {
    "collapsed": true
   },
   "outputs": [],
   "source": [
    "idfs=vectorizer.idf_"
   ]
  },
  {
   "cell_type": "code",
   "execution_count": 230,
   "metadata": {
    "collapsed": true
   },
   "outputs": [],
   "source": [
    "word_df=pd.DataFrame(words.items())"
   ]
  },
  {
   "cell_type": "code",
   "execution_count": 231,
   "metadata": {
    "collapsed": true
   },
   "outputs": [],
   "source": [
    "word_df.columns=['word','pos']"
   ]
  },
  {
   "cell_type": "code",
   "execution_count": 232,
   "metadata": {
    "collapsed": false
   },
   "outputs": [
    {
     "name": "stderr",
     "output_type": "stream",
     "text": [
      "C:\\Program Files\\Anaconda2\\lib\\site-packages\\ipykernel\\__main__.py:1: FutureWarning: sort(columns=....) is deprecated, use sort_values(by=.....)\n",
      "  if __name__ == '__main__':\n"
     ]
    }
   ],
   "source": [
    "word_df_pos=word_df.sort(\"pos\")"
   ]
  },
  {
   "cell_type": "code",
   "execution_count": 233,
   "metadata": {
    "collapsed": true
   },
   "outputs": [],
   "source": [
    "word_df_pos['idf']=idfs"
   ]
  },
  {
   "cell_type": "code",
   "execution_count": 234,
   "metadata": {
    "collapsed": false
   },
   "outputs": [
    {
     "name": "stderr",
     "output_type": "stream",
     "text": [
      "C:\\Program Files\\Anaconda2\\lib\\site-packages\\ipykernel\\__main__.py:1: FutureWarning: sort(columns=....) is deprecated, use sort_values(by=.....)\n",
      "  if __name__ == '__main__':\n"
     ]
    }
   ],
   "source": [
    "sorted_words=pd.DataFrame(word_df_pos.sort('idf'))#sort according to idf"
   ]
  },
  {
   "cell_type": "markdown",
   "metadata": {},
   "source": [
    "The skills could only start with letter, so we remove the words do not start with letters"
   ]
  },
  {
   "cell_type": "code",
   "execution_count": 235,
   "metadata": {
    "collapsed": true
   },
   "outputs": [],
   "source": [
    "alpha=[x.isalpha() for x in sorted_words['word']]"
   ]
  },
  {
   "cell_type": "markdown",
   "metadata": {},
   "source": [
    "We find that sometimes there is no space between two words so we add space to seperate skills."
   ]
  },
  {
   "cell_type": "code",
   "execution_count": 237,
   "metadata": {
    "collapsed": false
   },
   "outputs": [],
   "source": [
    "job_analyst['require_fn']=[re.sub(\"(.+?)(sas|python|eview|spss|tableau|access|vba|matlab)(.+?)\",\"\\\\1 \\\\2 \\\\3 \",x) for x in (job_analyst['require']).head()]"
   ]
  },
  {
   "cell_type": "code",
   "execution_count": 104,
   "metadata": {
    "collapsed": false
   },
   "outputs": [],
   "source": [
    "vectorizer = TfidfVectorizer(tokenizer=lemmatize,stop_words=\"english\",smooth_idf=True,norm=None)\n",
    "tfs = vectorizer.fit_transform(['require_fn'])"
   ]
  },
  {
   "cell_type": "code",
   "execution_count": 106,
   "metadata": {
    "collapsed": false
   },
   "outputs": [],
   "source": [
    "words=vectorizer.vocabulary_"
   ]
  },
  {
   "cell_type": "code",
   "execution_count": 107,
   "metadata": {
    "collapsed": false
   },
   "outputs": [],
   "source": [
    "idfs=vectorizer.idf_"
   ]
  },
  {
   "cell_type": "code",
   "execution_count": 108,
   "metadata": {
    "collapsed": true
   },
   "outputs": [],
   "source": [
    "word_df=pd.DataFrame(words.items())"
   ]
  },
  {
   "cell_type": "code",
   "execution_count": 109,
   "metadata": {
    "collapsed": true
   },
   "outputs": [],
   "source": [
    "word_df.columns=['word','pos']"
   ]
  },
  {
   "cell_type": "code",
   "execution_count": 110,
   "metadata": {
    "collapsed": false
   },
   "outputs": [
    {
     "name": "stderr",
     "output_type": "stream",
     "text": [
      "C:\\Program Files\\Anaconda2\\lib\\site-packages\\ipykernel\\__main__.py:1: FutureWarning: sort(columns=....) is deprecated, use sort_values(by=.....)\n",
      "  if __name__ == '__main__':\n"
     ]
    }
   ],
   "source": [
    "word_df_pos=word_df.sort(\"pos\")"
   ]
  },
  {
   "cell_type": "code",
   "execution_count": 111,
   "metadata": {
    "collapsed": false
   },
   "outputs": [],
   "source": [
    "word_df_pos['idf']=idfs"
   ]
  },
  {
   "cell_type": "code",
   "execution_count": 112,
   "metadata": {
    "collapsed": false
   },
   "outputs": [
    {
     "name": "stderr",
     "output_type": "stream",
     "text": [
      "C:\\Program Files\\Anaconda2\\lib\\site-packages\\ipykernel\\__main__.py:1: FutureWarning: sort(columns=....) is deprecated, use sort_values(by=.....)\n",
      "  if __name__ == '__main__':\n"
     ]
    }
   ],
   "source": [
    "sorted_words=pd.DataFrame(word_df_pos.sort('idf'))"
   ]
  },
  {
   "cell_type": "code",
   "execution_count": 113,
   "metadata": {
    "collapsed": false
   },
   "outputs": [],
   "source": [
    "alpha=[x.isalpha() for x in sorted_words['word']]"
   ]
  },
  {
   "cell_type": "code",
   "execution_count": 114,
   "metadata": {
    "collapsed": true
   },
   "outputs": [],
   "source": [
    "words_alpha=sorted_words[alpha]"
   ]
  },
  {
   "cell_type": "code",
   "execution_count": 178,
   "metadata": {
    "collapsed": true
   },
   "outputs": [],
   "source": [
    "words_alpha.to_csv(\"words_alpha.csv\", sep=',',encoding='utf-8')"
   ]
  },
  {
   "cell_type": "code",
   "execution_count": 13,
   "metadata": {
    "collapsed": true
   },
   "outputs": [],
   "source": [
    "words_alpha=pd.read_csv(\"words_alpha.csv\")"
   ]
  },
  {
   "cell_type": "markdown",
   "metadata": {},
   "source": [
    "We find that the common ones are: __* <span style=\"color:red\">r,spss, excel, sql, python,java, hadoop, pig, spark, hive, orac, vba, mysql, sqlserver, matlab, microsoft,access,matlab,stata,sa,tableau</span>  * __ . We use regular expression to see whether a post mentioned specific software.\n"
   ]
  },
  {
   "cell_type": "code",
   "execution_count": 14,
   "metadata": {
    "collapsed": false
   },
   "outputs": [],
   "source": [
    "#select softwares\n",
    "soft_idx=[re.match('^(r|spss|excel|sql|python|java|hadoop|pig|spark|hive|oracl|vba|mysql|\\\n",
    "sqlserver|microsoft|access|matlab|stata|sa|tableau)$',x) for x in words_alpha['word']]\n"
   ]
  },
  {
   "cell_type": "code",
   "execution_count": 15,
   "metadata": {
    "collapsed": false
   },
   "outputs": [],
   "source": [
    "soft_idx1=[not x==None for x in soft_idx]"
   ]
  },
  {
   "cell_type": "code",
   "execution_count": 16,
   "metadata": {
    "collapsed": false
   },
   "outputs": [],
   "source": [
    "software=words_alpha[soft_idx1]"
   ]
  },
  {
   "cell_type": "code",
   "execution_count": 17,
   "metadata": {
    "collapsed": false
   },
   "outputs": [],
   "source": [
    "software=software[['word','idf']]#show common idf "
   ]
  },
  {
   "cell_type": "code",
   "execution_count": 18,
   "metadata": {
    "collapsed": false
   },
   "outputs": [
    {
     "data": {
      "text/html": [
       "<div>\n",
       "<table border=\"1\" class=\"dataframe\">\n",
       "  <thead>\n",
       "    <tr style=\"text-align: right;\">\n",
       "      <th></th>\n",
       "      <th>word</th>\n",
       "      <th>idf</th>\n",
       "    </tr>\n",
       "  </thead>\n",
       "  <tbody>\n",
       "    <tr>\n",
       "      <th>26</th>\n",
       "      <td>r</td>\n",
       "      <td>1.395435</td>\n",
       "    </tr>\n",
       "    <tr>\n",
       "      <th>41</th>\n",
       "      <td>sql</td>\n",
       "      <td>1.517182</td>\n",
       "    </tr>\n",
       "    <tr>\n",
       "      <th>50</th>\n",
       "      <td>excel</td>\n",
       "      <td>1.577928</td>\n",
       "    </tr>\n",
       "    <tr>\n",
       "      <th>80</th>\n",
       "      <td>access</td>\n",
       "      <td>1.708237</td>\n",
       "    </tr>\n",
       "    <tr>\n",
       "      <th>227</th>\n",
       "      <td>python</td>\n",
       "      <td>2.103231</td>\n",
       "    </tr>\n",
       "    <tr>\n",
       "      <th>266</th>\n",
       "      <td>java</td>\n",
       "      <td>2.289728</td>\n",
       "    </tr>\n",
       "    <tr>\n",
       "      <th>486</th>\n",
       "      <td>hadoop</td>\n",
       "      <td>2.937878</td>\n",
       "    </tr>\n",
       "    <tr>\n",
       "      <th>504</th>\n",
       "      <td>tableau</td>\n",
       "      <td>2.982875</td>\n",
       "    </tr>\n",
       "    <tr>\n",
       "      <th>529</th>\n",
       "      <td>matlab</td>\n",
       "      <td>3.038804</td>\n",
       "    </tr>\n",
       "    <tr>\n",
       "      <th>533</th>\n",
       "      <td>spark</td>\n",
       "      <td>3.047693</td>\n",
       "    </tr>\n",
       "    <tr>\n",
       "      <th>630</th>\n",
       "      <td>microsoft</td>\n",
       "      <td>3.171072</td>\n",
       "    </tr>\n",
       "    <tr>\n",
       "      <th>717</th>\n",
       "      <td>sa</td>\n",
       "      <td>3.409483</td>\n",
       "    </tr>\n",
       "    <tr>\n",
       "      <th>925</th>\n",
       "      <td>oracl</td>\n",
       "      <td>3.959529</td>\n",
       "    </tr>\n",
       "    <tr>\n",
       "      <th>1199</th>\n",
       "      <td>vba</td>\n",
       "      <td>4.381801</td>\n",
       "    </tr>\n",
       "    <tr>\n",
       "      <th>1718</th>\n",
       "      <td>hive</td>\n",
       "      <td>4.993603</td>\n",
       "    </tr>\n",
       "    <tr>\n",
       "      <th>2204</th>\n",
       "      <td>spss</td>\n",
       "      <td>5.201242</td>\n",
       "    </tr>\n",
       "    <tr>\n",
       "      <th>2375</th>\n",
       "      <td>mysql</td>\n",
       "      <td>5.323845</td>\n",
       "    </tr>\n",
       "    <tr>\n",
       "      <th>2659</th>\n",
       "      <td>pig</td>\n",
       "      <td>5.568967</td>\n",
       "    </tr>\n",
       "    <tr>\n",
       "      <th>2877</th>\n",
       "      <td>stata</td>\n",
       "      <td>5.820282</td>\n",
       "    </tr>\n",
       "    <tr>\n",
       "      <th>5085</th>\n",
       "      <td>sqlserver</td>\n",
       "      <td>7.073045</td>\n",
       "    </tr>\n",
       "  </tbody>\n",
       "</table>\n",
       "</div>"
      ],
      "text/plain": [
       "           word       idf\n",
       "26            r  1.395435\n",
       "41          sql  1.517182\n",
       "50        excel  1.577928\n",
       "80       access  1.708237\n",
       "227      python  2.103231\n",
       "266        java  2.289728\n",
       "486      hadoop  2.937878\n",
       "504     tableau  2.982875\n",
       "529      matlab  3.038804\n",
       "533       spark  3.047693\n",
       "630   microsoft  3.171072\n",
       "717          sa  3.409483\n",
       "925       oracl  3.959529\n",
       "1199        vba  4.381801\n",
       "1718       hive  4.993603\n",
       "2204       spss  5.201242\n",
       "2375      mysql  5.323845\n",
       "2659        pig  5.568967\n",
       "2877      stata  5.820282\n",
       "5085  sqlserver  7.073045"
      ]
     },
     "execution_count": 18,
     "metadata": {},
     "output_type": "execute_result"
    }
   ],
   "source": [
    "software "
   ]
  },
  {
   "cell_type": "markdown",
   "metadata": {},
   "source": [
    "We match these software directly by their name expect r, sas, excel, java and sql. "
   ]
  },
  {
   "cell_type": "code",
   "execution_count": 122,
   "metadata": {
    "collapsed": false
   },
   "outputs": [],
   "source": [
    "soft_pattern=software['word'][(software['word']!='r')& (software['word']!='sa')& (software['word']!='sql')& (software['word']!='excel')]"
   ]
  },
  {
   "cell_type": "code",
   "execution_count": 123,
   "metadata": {
    "collapsed": false
   },
   "outputs": [
    {
     "data": {
      "text/plain": [
       "80         access\n",
       "227        python\n",
       "266          java\n",
       "486        hadoop\n",
       "504       tableau\n",
       "529        matlab\n",
       "533         spark\n",
       "630     microsoft\n",
       "925         oracl\n",
       "1199          vba\n",
       "1718         hive\n",
       "2204         spss\n",
       "2375        mysql\n",
       "2659          pig\n",
       "2877        stata\n",
       "5085    sqlserver\n",
       "Name: word, dtype: object"
      ]
     },
     "execution_count": 123,
     "metadata": {},
     "output_type": "execute_result"
    }
   ],
   "source": [
    "soft_pattern"
   ]
  },
  {
   "cell_type": "code",
   "execution_count": 128,
   "metadata": {
    "collapsed": true
   },
   "outputs": [],
   "source": [
    "job_analyst.to_csv(\"job_analyst_mar10.csv\")"
   ]
  },
  {
   "cell_type": "code",
   "execution_count": 11,
   "metadata": {
    "collapsed": false
   },
   "outputs": [],
   "source": [
    "job_analyst=pd.read_csv(\"job_analyst_mar10.csv\")"
   ]
  },
  {
   "cell_type": "code",
   "execution_count": 86,
   "metadata": {
    "collapsed": false
   },
   "outputs": [],
   "source": [
    "soft_mention=[[re.search(x,y) for y in job_analyst['require_fn']] for x in soft_pattern] #match ohter patterns "
   ]
  },
  {
   "cell_type": "markdown",
   "metadata": {
    "collapsed": true
   },
   "source": [
    "soft_mention=(pd.DataFrame(soft_mention)).T #transpose"
   ]
  },
  {
   "cell_type": "code",
   "execution_count": 88,
   "metadata": {
    "collapsed": false
   },
   "outputs": [],
   "source": [
    "soft_mention.columns=soft_pattern"
   ]
  },
  {
   "cell_type": "markdown",
   "metadata": {},
   "source": [
    "We match \"r\",\"excel\" and \"java\" with pattern \" r \", \"excel \" and \" java\" since what we are looking for is the software. If we just match these words, we could possibly match a part in a word like \"experience\", \"excellent\" and \"javascript\" which does not be included in job description. "
   ]
  },
  {
   "cell_type": "code",
   "execution_count": 89,
   "metadata": {
    "collapsed": false
   },
   "outputs": [],
   "source": [
    "soft_mention['r']=[re.search(\" r \",x) for x in job_analyst['require_fn']]\n",
    "soft_mention['excel']=[re.search(\" excel\",x) for x in job_analyst['require_fn']]\n",
    "soft_mention['java']=[re.search(\" java \",x) for x in job_analyst['require_fn']]"
   ]
  },
  {
   "cell_type": "markdown",
   "metadata": {},
   "source": [
    "We match \"sas\" with pattern \"sas\" since in the process __* <span style=\"color:red\">lemmatize</span>  * __, we remove 'ending s' from 'sas. If we just match \"sa\", we could get wrong word like 'salary'."
   ]
  },
  {
   "cell_type": "code",
   "execution_count": 90,
   "metadata": {
    "collapsed": false
   },
   "outputs": [],
   "source": [
    "soft_mention['sas']=[re.search(\"sas\",x) for x in job_analyst['require_fn']]"
   ]
  },
  {
   "cell_type": "markdown",
   "metadata": {},
   "source": [
    "For \"sql\", if we match directly by \"sql\", we will repeatedly count \"mysql\" and \"sqlsever\" which also contain \"sql\" so we match \" sql\"."
   ]
  },
  {
   "cell_type": "code",
   "execution_count": 134,
   "metadata": {
    "collapsed": true
   },
   "outputs": [],
   "source": [
    "soft_mention['sql']=[re.search(\" sql\",x) for x in job_analyst['require_fn']]"
   ]
  },
  {
   "cell_type": "markdown",
   "metadata": {},
   "source": [
    "Show the whole dataframe."
   ]
  },
  {
   "cell_type": "code",
   "execution_count": 142,
   "metadata": {
    "collapsed": false
   },
   "outputs": [],
   "source": [
    "soft_mention=pd.DataFrame(soft_mention)"
   ]
  },
  {
   "cell_type": "code",
   "execution_count": 143,
   "metadata": {
    "collapsed": true
   },
   "outputs": [],
   "source": [
    "soft_mention=soft_mention.set_index([range(len(soft_mention))])"
   ]
  },
  {
   "cell_type": "code",
   "execution_count": 238,
   "metadata": {
    "collapsed": false
   },
   "outputs": [
    {
     "data": {
      "text/html": [
       "<div>\n",
       "<table border=\"1\" class=\"dataframe\">\n",
       "  <thead>\n",
       "    <tr style=\"text-align: right;\">\n",
       "      <th>word</th>\n",
       "      <th>sql</th>\n",
       "      <th>excel</th>\n",
       "      <th>access</th>\n",
       "      <th>python</th>\n",
       "      <th>java</th>\n",
       "      <th>hadoop</th>\n",
       "      <th>tableau</th>\n",
       "      <th>matlab</th>\n",
       "      <th>spark</th>\n",
       "      <th>microsoft</th>\n",
       "      <th>oracl</th>\n",
       "      <th>vba</th>\n",
       "      <th>hive</th>\n",
       "      <th>spss</th>\n",
       "      <th>mysql</th>\n",
       "      <th>pig</th>\n",
       "      <th>stata</th>\n",
       "      <th>sqlserver</th>\n",
       "      <th>r</th>\n",
       "      <th>sas</th>\n",
       "    </tr>\n",
       "  </thead>\n",
       "  <tbody>\n",
       "    <tr>\n",
       "      <th>0</th>\n",
       "      <td>&lt;_sre.SRE_Match object at 0x0000000011235370&gt;</td>\n",
       "      <td>&lt;_sre.SRE_Match object at 0x0000000011DA18B8&gt;</td>\n",
       "      <td>None</td>\n",
       "      <td>None</td>\n",
       "      <td>None</td>\n",
       "      <td>None</td>\n",
       "      <td>None</td>\n",
       "      <td>None</td>\n",
       "      <td>None</td>\n",
       "      <td>None</td>\n",
       "      <td>None</td>\n",
       "      <td>None</td>\n",
       "      <td>None</td>\n",
       "      <td>None</td>\n",
       "      <td>None</td>\n",
       "      <td>None</td>\n",
       "      <td>None</td>\n",
       "      <td>None</td>\n",
       "      <td>&lt;_sre.SRE_Match object at 0x0000000011B23B28&gt;</td>\n",
       "      <td>None</td>\n",
       "    </tr>\n",
       "    <tr>\n",
       "      <th>1</th>\n",
       "      <td>None</td>\n",
       "      <td>None</td>\n",
       "      <td>&lt;_sre.SRE_Match object at 0x00000000120A5370&gt;</td>\n",
       "      <td>&lt;_sre.SRE_Match object at 0x0000000011623098&gt;</td>\n",
       "      <td>&lt;_sre.SRE_Match object at 0x00000000117B8AC0&gt;</td>\n",
       "      <td>&lt;_sre.SRE_Match object at 0x00000000113BE370&gt;</td>\n",
       "      <td>None</td>\n",
       "      <td>&lt;_sre.SRE_Match object at 0x00000000113D65E0&gt;</td>\n",
       "      <td>&lt;_sre.SRE_Match object at 0x00000000113E7780&gt;</td>\n",
       "      <td>None</td>\n",
       "      <td>None</td>\n",
       "      <td>None</td>\n",
       "      <td>None</td>\n",
       "      <td>None</td>\n",
       "      <td>None</td>\n",
       "      <td>None</td>\n",
       "      <td>None</td>\n",
       "      <td>None</td>\n",
       "      <td>&lt;_sre.SRE_Match object at 0x000000001192F7E8&gt;</td>\n",
       "      <td>None</td>\n",
       "    </tr>\n",
       "    <tr>\n",
       "      <th>2</th>\n",
       "      <td>&lt;_sre.SRE_Match object at 0x0000000011235308&gt;</td>\n",
       "      <td>&lt;_sre.SRE_Match object at 0x0000000011DA1850&gt;</td>\n",
       "      <td>None</td>\n",
       "      <td>None</td>\n",
       "      <td>None</td>\n",
       "      <td>None</td>\n",
       "      <td>&lt;_sre.SRE_Match object at 0x00000000113D2370&gt;</td>\n",
       "      <td>None</td>\n",
       "      <td>None</td>\n",
       "      <td>None</td>\n",
       "      <td>None</td>\n",
       "      <td>None</td>\n",
       "      <td>None</td>\n",
       "      <td>None</td>\n",
       "      <td>None</td>\n",
       "      <td>None</td>\n",
       "      <td>None</td>\n",
       "      <td>None</td>\n",
       "      <td>None</td>\n",
       "      <td>None</td>\n",
       "    </tr>\n",
       "    <tr>\n",
       "      <th>3</th>\n",
       "      <td>None</td>\n",
       "      <td>None</td>\n",
       "      <td>None</td>\n",
       "      <td>None</td>\n",
       "      <td>None</td>\n",
       "      <td>None</td>\n",
       "      <td>None</td>\n",
       "      <td>None</td>\n",
       "      <td>None</td>\n",
       "      <td>None</td>\n",
       "      <td>None</td>\n",
       "      <td>None</td>\n",
       "      <td>None</td>\n",
       "      <td>None</td>\n",
       "      <td>None</td>\n",
       "      <td>None</td>\n",
       "      <td>None</td>\n",
       "      <td>None</td>\n",
       "      <td>None</td>\n",
       "      <td>None</td>\n",
       "    </tr>\n",
       "    <tr>\n",
       "      <th>4</th>\n",
       "      <td>&lt;_sre.SRE_Match object at 0x00000000112353D8&gt;</td>\n",
       "      <td>None</td>\n",
       "      <td>None</td>\n",
       "      <td>&lt;_sre.SRE_Match object at 0x0000000011623100&gt;</td>\n",
       "      <td>None</td>\n",
       "      <td>&lt;_sre.SRE_Match object at 0x00000000113BE3D8&gt;</td>\n",
       "      <td>&lt;_sre.SRE_Match object at 0x00000000113D23D8&gt;</td>\n",
       "      <td>None</td>\n",
       "      <td>&lt;_sre.SRE_Match object at 0x00000000113E77E8&gt;</td>\n",
       "      <td>None</td>\n",
       "      <td>None</td>\n",
       "      <td>None</td>\n",
       "      <td>None</td>\n",
       "      <td>None</td>\n",
       "      <td>None</td>\n",
       "      <td>None</td>\n",
       "      <td>None</td>\n",
       "      <td>None</td>\n",
       "      <td>None</td>\n",
       "      <td>None</td>\n",
       "    </tr>\n",
       "  </tbody>\n",
       "</table>\n",
       "</div>"
      ],
      "text/plain": [
       "word                                            sql  \\\n",
       "0     <_sre.SRE_Match object at 0x0000000011235370>   \n",
       "1                                              None   \n",
       "2     <_sre.SRE_Match object at 0x0000000011235308>   \n",
       "3                                              None   \n",
       "4     <_sre.SRE_Match object at 0x00000000112353D8>   \n",
       "\n",
       "word                                          excel  \\\n",
       "0     <_sre.SRE_Match object at 0x0000000011DA18B8>   \n",
       "1                                              None   \n",
       "2     <_sre.SRE_Match object at 0x0000000011DA1850>   \n",
       "3                                              None   \n",
       "4                                              None   \n",
       "\n",
       "word                                         access  \\\n",
       "0                                              None   \n",
       "1     <_sre.SRE_Match object at 0x00000000120A5370>   \n",
       "2                                              None   \n",
       "3                                              None   \n",
       "4                                              None   \n",
       "\n",
       "word                                         python  \\\n",
       "0                                              None   \n",
       "1     <_sre.SRE_Match object at 0x0000000011623098>   \n",
       "2                                              None   \n",
       "3                                              None   \n",
       "4     <_sre.SRE_Match object at 0x0000000011623100>   \n",
       "\n",
       "word                                           java  \\\n",
       "0                                              None   \n",
       "1     <_sre.SRE_Match object at 0x00000000117B8AC0>   \n",
       "2                                              None   \n",
       "3                                              None   \n",
       "4                                              None   \n",
       "\n",
       "word                                         hadoop  \\\n",
       "0                                              None   \n",
       "1     <_sre.SRE_Match object at 0x00000000113BE370>   \n",
       "2                                              None   \n",
       "3                                              None   \n",
       "4     <_sre.SRE_Match object at 0x00000000113BE3D8>   \n",
       "\n",
       "word                                        tableau  \\\n",
       "0                                              None   \n",
       "1                                              None   \n",
       "2     <_sre.SRE_Match object at 0x00000000113D2370>   \n",
       "3                                              None   \n",
       "4     <_sre.SRE_Match object at 0x00000000113D23D8>   \n",
       "\n",
       "word                                         matlab  \\\n",
       "0                                              None   \n",
       "1     <_sre.SRE_Match object at 0x00000000113D65E0>   \n",
       "2                                              None   \n",
       "3                                              None   \n",
       "4                                              None   \n",
       "\n",
       "word                                          spark microsoft oracl   vba  \\\n",
       "0                                              None      None  None  None   \n",
       "1     <_sre.SRE_Match object at 0x00000000113E7780>      None  None  None   \n",
       "2                                              None      None  None  None   \n",
       "3                                              None      None  None  None   \n",
       "4     <_sre.SRE_Match object at 0x00000000113E77E8>      None  None  None   \n",
       "\n",
       "word  hive  spss mysql   pig stata sqlserver  \\\n",
       "0     None  None  None  None  None      None   \n",
       "1     None  None  None  None  None      None   \n",
       "2     None  None  None  None  None      None   \n",
       "3     None  None  None  None  None      None   \n",
       "4     None  None  None  None  None      None   \n",
       "\n",
       "word                                              r   sas  \n",
       "0     <_sre.SRE_Match object at 0x0000000011B23B28>  None  \n",
       "1     <_sre.SRE_Match object at 0x000000001192F7E8>  None  \n",
       "2                                              None  None  \n",
       "3                                              None  None  \n",
       "4                                              None  None  "
      ]
     },
     "execution_count": 238,
     "metadata": {},
     "output_type": "execute_result"
    }
   ],
   "source": [
    "soft_mention.head()"
   ]
  },
  {
   "cell_type": "markdown",
   "metadata": {},
   "source": [
    "### * <span style=\"color:blue\">Caculate Frequency</span>  *"
   ]
  },
  {
   "cell_type": "markdown",
   "metadata": {},
   "source": [
    "In this progress, we count frequency for these skills."
   ]
  },
  {
   "cell_type": "markdown",
   "metadata": {},
   "source": [
    "First, we conver result for search into binary variable. If match, we set 1 otherwise set 0."
   ]
  },
  {
   "cell_type": "code",
   "execution_count": 112,
   "metadata": {
    "collapsed": false
   },
   "outputs": [],
   "source": [
    "#count for total\n",
    "def binary_change(result):\n",
    "    '''This function will change the result for match into 0-1.\n",
    "    If none y=0 and vice versa.\n",
    "    '''\n",
    "    if result==None:\n",
    "        return 0\n",
    "    else:\n",
    "        return 1"
   ]
  },
  {
   "cell_type": "code",
   "execution_count": 145,
   "metadata": {
    "collapsed": false
   },
   "outputs": [],
   "source": [
    "binary_list=soft_mention.applymap(binary_change)"
   ]
  },
  {
   "cell_type": "code",
   "execution_count": 146,
   "metadata": {
    "collapsed": false
   },
   "outputs": [
    {
     "data": {
      "text/html": [
       "<div>\n",
       "<table border=\"1\" class=\"dataframe\">\n",
       "  <thead>\n",
       "    <tr style=\"text-align: right;\">\n",
       "      <th>word</th>\n",
       "      <th>sql</th>\n",
       "      <th>excel</th>\n",
       "      <th>access</th>\n",
       "      <th>python</th>\n",
       "      <th>java</th>\n",
       "      <th>hadoop</th>\n",
       "      <th>tableau</th>\n",
       "      <th>matlab</th>\n",
       "      <th>spark</th>\n",
       "      <th>microsoft</th>\n",
       "      <th>oracl</th>\n",
       "      <th>vba</th>\n",
       "      <th>hive</th>\n",
       "      <th>spss</th>\n",
       "      <th>mysql</th>\n",
       "      <th>pig</th>\n",
       "      <th>stata</th>\n",
       "      <th>sqlserver</th>\n",
       "      <th>r</th>\n",
       "      <th>sas</th>\n",
       "    </tr>\n",
       "  </thead>\n",
       "  <tbody>\n",
       "    <tr>\n",
       "      <th>0</th>\n",
       "      <td>1</td>\n",
       "      <td>1</td>\n",
       "      <td>0</td>\n",
       "      <td>0</td>\n",
       "      <td>0</td>\n",
       "      <td>0</td>\n",
       "      <td>0</td>\n",
       "      <td>0</td>\n",
       "      <td>0</td>\n",
       "      <td>0</td>\n",
       "      <td>0</td>\n",
       "      <td>0</td>\n",
       "      <td>0</td>\n",
       "      <td>0</td>\n",
       "      <td>0</td>\n",
       "      <td>0</td>\n",
       "      <td>0</td>\n",
       "      <td>0</td>\n",
       "      <td>1</td>\n",
       "      <td>0</td>\n",
       "    </tr>\n",
       "    <tr>\n",
       "      <th>1</th>\n",
       "      <td>0</td>\n",
       "      <td>0</td>\n",
       "      <td>1</td>\n",
       "      <td>1</td>\n",
       "      <td>1</td>\n",
       "      <td>1</td>\n",
       "      <td>0</td>\n",
       "      <td>1</td>\n",
       "      <td>1</td>\n",
       "      <td>0</td>\n",
       "      <td>0</td>\n",
       "      <td>0</td>\n",
       "      <td>0</td>\n",
       "      <td>0</td>\n",
       "      <td>0</td>\n",
       "      <td>0</td>\n",
       "      <td>0</td>\n",
       "      <td>0</td>\n",
       "      <td>1</td>\n",
       "      <td>0</td>\n",
       "    </tr>\n",
       "    <tr>\n",
       "      <th>2</th>\n",
       "      <td>1</td>\n",
       "      <td>1</td>\n",
       "      <td>0</td>\n",
       "      <td>0</td>\n",
       "      <td>0</td>\n",
       "      <td>0</td>\n",
       "      <td>1</td>\n",
       "      <td>0</td>\n",
       "      <td>0</td>\n",
       "      <td>0</td>\n",
       "      <td>0</td>\n",
       "      <td>0</td>\n",
       "      <td>0</td>\n",
       "      <td>0</td>\n",
       "      <td>0</td>\n",
       "      <td>0</td>\n",
       "      <td>0</td>\n",
       "      <td>0</td>\n",
       "      <td>0</td>\n",
       "      <td>0</td>\n",
       "    </tr>\n",
       "    <tr>\n",
       "      <th>3</th>\n",
       "      <td>0</td>\n",
       "      <td>0</td>\n",
       "      <td>0</td>\n",
       "      <td>0</td>\n",
       "      <td>0</td>\n",
       "      <td>0</td>\n",
       "      <td>0</td>\n",
       "      <td>0</td>\n",
       "      <td>0</td>\n",
       "      <td>0</td>\n",
       "      <td>0</td>\n",
       "      <td>0</td>\n",
       "      <td>0</td>\n",
       "      <td>0</td>\n",
       "      <td>0</td>\n",
       "      <td>0</td>\n",
       "      <td>0</td>\n",
       "      <td>0</td>\n",
       "      <td>0</td>\n",
       "      <td>0</td>\n",
       "    </tr>\n",
       "    <tr>\n",
       "      <th>4</th>\n",
       "      <td>1</td>\n",
       "      <td>0</td>\n",
       "      <td>0</td>\n",
       "      <td>1</td>\n",
       "      <td>0</td>\n",
       "      <td>1</td>\n",
       "      <td>1</td>\n",
       "      <td>0</td>\n",
       "      <td>1</td>\n",
       "      <td>0</td>\n",
       "      <td>0</td>\n",
       "      <td>0</td>\n",
       "      <td>0</td>\n",
       "      <td>0</td>\n",
       "      <td>0</td>\n",
       "      <td>0</td>\n",
       "      <td>0</td>\n",
       "      <td>0</td>\n",
       "      <td>0</td>\n",
       "      <td>0</td>\n",
       "    </tr>\n",
       "  </tbody>\n",
       "</table>\n",
       "</div>"
      ],
      "text/plain": [
       "word  sql  excel  access  python  java  hadoop  tableau  matlab  spark  \\\n",
       "0       1      1       0       0     0       0        0       0      0   \n",
       "1       0      0       1       1     1       1        0       1      1   \n",
       "2       1      1       0       0     0       0        1       0      0   \n",
       "3       0      0       0       0     0       0        0       0      0   \n",
       "4       1      0       0       1     0       1        1       0      1   \n",
       "\n",
       "word  microsoft  oracl  vba  hive  spss  mysql  pig  stata  sqlserver  r  sas  \n",
       "0             0      0    0     0     0      0    0      0          0  1    0  \n",
       "1             0      0    0     0     0      0    0      0          0  1    0  \n",
       "2             0      0    0     0     0      0    0      0          0  0    0  \n",
       "3             0      0    0     0     0      0    0      0          0  0    0  \n",
       "4             0      0    0     0     0      0    0      0          0  0    0  "
      ]
     },
     "execution_count": 146,
     "metadata": {},
     "output_type": "execute_result"
    }
   ],
   "source": [
    "binary_list.head()"
   ]
  },
  {
   "cell_type": "markdown",
   "metadata": {},
   "source": [
    "Then, we calculate frequency for each skill which is the column sum. "
   ]
  },
  {
   "cell_type": "code",
   "execution_count": 147,
   "metadata": {
    "collapsed": false
   },
   "outputs": [],
   "source": [
    "counts_whole=binary_list.apply(np.sum, axis=0)#count for all"
   ]
  },
  {
   "cell_type": "code",
   "execution_count": 148,
   "metadata": {
    "collapsed": false
   },
   "outputs": [],
   "source": [
    "counts_whole=pd.DataFrame(counts_whole)"
   ]
  },
  {
   "cell_type": "code",
   "execution_count": 151,
   "metadata": {
    "collapsed": false
   },
   "outputs": [],
   "source": [
    "counts_whole.columns=['counts']"
   ]
  },
  {
   "cell_type": "code",
   "execution_count": 153,
   "metadata": {
    "collapsed": false
   },
   "outputs": [
    {
     "name": "stderr",
     "output_type": "stream",
     "text": [
      "C:\\Program Files\\Anaconda2\\lib\\site-packages\\ipykernel\\__main__.py:1: FutureWarning: sort(columns=....) is deprecated, use sort_values(by=.....)\n",
      "  if __name__ == '__main__':\n"
     ]
    },
    {
     "data": {
      "text/html": [
       "<div>\n",
       "<table border=\"1\" class=\"dataframe\">\n",
       "  <thead>\n",
       "    <tr style=\"text-align: right;\">\n",
       "      <th></th>\n",
       "      <th>counts</th>\n",
       "    </tr>\n",
       "    <tr>\n",
       "      <th>word</th>\n",
       "      <th></th>\n",
       "    </tr>\n",
       "  </thead>\n",
       "  <tbody>\n",
       "    <tr>\n",
       "      <th>r</th>\n",
       "      <td>1391</td>\n",
       "    </tr>\n",
       "    <tr>\n",
       "      <th>excel</th>\n",
       "      <td>1210</td>\n",
       "    </tr>\n",
       "    <tr>\n",
       "      <th>sql</th>\n",
       "      <td>1067</td>\n",
       "    </tr>\n",
       "    <tr>\n",
       "      <th>access</th>\n",
       "      <td>981</td>\n",
       "    </tr>\n",
       "    <tr>\n",
       "      <th>python</th>\n",
       "      <td>750</td>\n",
       "    </tr>\n",
       "    <tr>\n",
       "      <th>tableau</th>\n",
       "      <td>310</td>\n",
       "    </tr>\n",
       "    <tr>\n",
       "      <th>hadoop</th>\n",
       "      <td>304</td>\n",
       "    </tr>\n",
       "    <tr>\n",
       "      <th>spark</th>\n",
       "      <td>261</td>\n",
       "    </tr>\n",
       "    <tr>\n",
       "      <th>microsoft</th>\n",
       "      <td>259</td>\n",
       "    </tr>\n",
       "    <tr>\n",
       "      <th>java</th>\n",
       "      <td>236</td>\n",
       "    </tr>\n",
       "    <tr>\n",
       "      <th>matlab</th>\n",
       "      <td>232</td>\n",
       "    </tr>\n",
       "    <tr>\n",
       "      <th>sas</th>\n",
       "      <td>207</td>\n",
       "    </tr>\n",
       "    <tr>\n",
       "      <th>oracl</th>\n",
       "      <td>124</td>\n",
       "    </tr>\n",
       "    <tr>\n",
       "      <th>stata</th>\n",
       "      <td>66</td>\n",
       "    </tr>\n",
       "    <tr>\n",
       "      <th>vba</th>\n",
       "      <td>64</td>\n",
       "    </tr>\n",
       "    <tr>\n",
       "      <th>hive</th>\n",
       "      <td>53</td>\n",
       "    </tr>\n",
       "    <tr>\n",
       "      <th>spss</th>\n",
       "      <td>36</td>\n",
       "    </tr>\n",
       "    <tr>\n",
       "      <th>mysql</th>\n",
       "      <td>27</td>\n",
       "    </tr>\n",
       "    <tr>\n",
       "      <th>pig</th>\n",
       "      <td>19</td>\n",
       "    </tr>\n",
       "    <tr>\n",
       "      <th>sqlserver</th>\n",
       "      <td>3</td>\n",
       "    </tr>\n",
       "  </tbody>\n",
       "</table>\n",
       "</div>"
      ],
      "text/plain": [
       "           counts\n",
       "word             \n",
       "r            1391\n",
       "excel        1210\n",
       "sql          1067\n",
       "access        981\n",
       "python        750\n",
       "tableau       310\n",
       "hadoop        304\n",
       "spark         261\n",
       "microsoft     259\n",
       "java          236\n",
       "matlab        232\n",
       "sas           207\n",
       "oracl         124\n",
       "stata          66\n",
       "vba            64\n",
       "hive           53\n",
       "spss           36\n",
       "mysql          27\n",
       "pig            19\n",
       "sqlserver       3"
      ]
     },
     "execution_count": 153,
     "metadata": {},
     "output_type": "execute_result"
    }
   ],
   "source": [
    "counts_whole.sort('counts',ascending=False) #sorting "
   ]
  },
  {
   "cell_type": "code",
   "execution_count": 155,
   "metadata": {
    "collapsed": true
   },
   "outputs": [],
   "source": [
    "counts_whole.to_csv(\"counts_all.csv\")"
   ]
  },
  {
   "cell_type": "code",
   "execution_count": 168,
   "metadata": {
    "collapsed": true
   },
   "outputs": [],
   "source": [
    "binary_list['degree']=job_analyst['degree']#add degree\n",
    "\n",
    "binary_list['year_group']=job_analyst['year_group']#add experience"
   ]
  },
  {
   "cell_type": "code",
   "execution_count": 169,
   "metadata": {
    "collapsed": false
   },
   "outputs": [
    {
     "data": {
      "text/html": [
       "<div>\n",
       "<table border=\"1\" class=\"dataframe\">\n",
       "  <thead>\n",
       "    <tr style=\"text-align: right;\">\n",
       "      <th>word</th>\n",
       "      <th>sql</th>\n",
       "      <th>excel</th>\n",
       "      <th>access</th>\n",
       "      <th>python</th>\n",
       "      <th>java</th>\n",
       "      <th>hadoop</th>\n",
       "      <th>tableau</th>\n",
       "      <th>matlab</th>\n",
       "      <th>spark</th>\n",
       "      <th>microsoft</th>\n",
       "      <th>...</th>\n",
       "      <th>hive</th>\n",
       "      <th>spss</th>\n",
       "      <th>mysql</th>\n",
       "      <th>pig</th>\n",
       "      <th>stata</th>\n",
       "      <th>sqlserver</th>\n",
       "      <th>r</th>\n",
       "      <th>sas</th>\n",
       "      <th>degree</th>\n",
       "      <th>year_group</th>\n",
       "    </tr>\n",
       "  </thead>\n",
       "  <tbody>\n",
       "    <tr>\n",
       "      <th>0</th>\n",
       "      <td>1</td>\n",
       "      <td>1</td>\n",
       "      <td>0</td>\n",
       "      <td>0</td>\n",
       "      <td>0</td>\n",
       "      <td>0</td>\n",
       "      <td>0</td>\n",
       "      <td>0</td>\n",
       "      <td>0</td>\n",
       "      <td>0</td>\n",
       "      <td>...</td>\n",
       "      <td>0</td>\n",
       "      <td>0</td>\n",
       "      <td>0</td>\n",
       "      <td>0</td>\n",
       "      <td>0</td>\n",
       "      <td>0</td>\n",
       "      <td>1</td>\n",
       "      <td>0</td>\n",
       "      <td>phd</td>\n",
       "      <td>less than 2</td>\n",
       "    </tr>\n",
       "    <tr>\n",
       "      <th>1</th>\n",
       "      <td>0</td>\n",
       "      <td>0</td>\n",
       "      <td>1</td>\n",
       "      <td>1</td>\n",
       "      <td>1</td>\n",
       "      <td>1</td>\n",
       "      <td>0</td>\n",
       "      <td>1</td>\n",
       "      <td>1</td>\n",
       "      <td>0</td>\n",
       "      <td>...</td>\n",
       "      <td>0</td>\n",
       "      <td>0</td>\n",
       "      <td>0</td>\n",
       "      <td>0</td>\n",
       "      <td>0</td>\n",
       "      <td>0</td>\n",
       "      <td>1</td>\n",
       "      <td>0</td>\n",
       "      <td>bachelor</td>\n",
       "      <td>less than 2</td>\n",
       "    </tr>\n",
       "    <tr>\n",
       "      <th>2</th>\n",
       "      <td>1</td>\n",
       "      <td>1</td>\n",
       "      <td>0</td>\n",
       "      <td>0</td>\n",
       "      <td>0</td>\n",
       "      <td>0</td>\n",
       "      <td>1</td>\n",
       "      <td>0</td>\n",
       "      <td>0</td>\n",
       "      <td>0</td>\n",
       "      <td>...</td>\n",
       "      <td>0</td>\n",
       "      <td>0</td>\n",
       "      <td>0</td>\n",
       "      <td>0</td>\n",
       "      <td>0</td>\n",
       "      <td>0</td>\n",
       "      <td>0</td>\n",
       "      <td>0</td>\n",
       "      <td>master</td>\n",
       "      <td>less than 2</td>\n",
       "    </tr>\n",
       "    <tr>\n",
       "      <th>3</th>\n",
       "      <td>0</td>\n",
       "      <td>0</td>\n",
       "      <td>0</td>\n",
       "      <td>0</td>\n",
       "      <td>0</td>\n",
       "      <td>0</td>\n",
       "      <td>0</td>\n",
       "      <td>0</td>\n",
       "      <td>0</td>\n",
       "      <td>0</td>\n",
       "      <td>...</td>\n",
       "      <td>0</td>\n",
       "      <td>0</td>\n",
       "      <td>0</td>\n",
       "      <td>0</td>\n",
       "      <td>0</td>\n",
       "      <td>0</td>\n",
       "      <td>0</td>\n",
       "      <td>0</td>\n",
       "      <td>phd</td>\n",
       "      <td>less than 2</td>\n",
       "    </tr>\n",
       "    <tr>\n",
       "      <th>4</th>\n",
       "      <td>1</td>\n",
       "      <td>0</td>\n",
       "      <td>0</td>\n",
       "      <td>1</td>\n",
       "      <td>0</td>\n",
       "      <td>1</td>\n",
       "      <td>1</td>\n",
       "      <td>0</td>\n",
       "      <td>1</td>\n",
       "      <td>0</td>\n",
       "      <td>...</td>\n",
       "      <td>0</td>\n",
       "      <td>0</td>\n",
       "      <td>0</td>\n",
       "      <td>0</td>\n",
       "      <td>0</td>\n",
       "      <td>0</td>\n",
       "      <td>0</td>\n",
       "      <td>0</td>\n",
       "      <td>phd</td>\n",
       "      <td>3-5</td>\n",
       "    </tr>\n",
       "  </tbody>\n",
       "</table>\n",
       "<p>5 rows × 22 columns</p>\n",
       "</div>"
      ],
      "text/plain": [
       "word  sql  excel  access  python  java  hadoop  tableau  matlab  spark  \\\n",
       "0       1      1       0       0     0       0        0       0      0   \n",
       "1       0      0       1       1     1       1        0       1      1   \n",
       "2       1      1       0       0     0       0        1       0      0   \n",
       "3       0      0       0       0     0       0        0       0      0   \n",
       "4       1      0       0       1     0       1        1       0      1   \n",
       "\n",
       "word  microsoft     ...       hive  spss  mysql  pig  stata  sqlserver  r  \\\n",
       "0             0     ...          0     0      0    0      0          0  1   \n",
       "1             0     ...          0     0      0    0      0          0  1   \n",
       "2             0     ...          0     0      0    0      0          0  0   \n",
       "3             0     ...          0     0      0    0      0          0  0   \n",
       "4             0     ...          0     0      0    0      0          0  0   \n",
       "\n",
       "word  sas    degree   year_group  \n",
       "0       0       phd  less than 2  \n",
       "1       0  bachelor  less than 2  \n",
       "2       0    master  less than 2  \n",
       "3       0       phd  less than 2  \n",
       "4       0       phd          3-5  \n",
       "\n",
       "[5 rows x 22 columns]"
      ]
     },
     "execution_count": 169,
     "metadata": {},
     "output_type": "execute_result"
    }
   ],
   "source": [
    "binary_list.head()"
   ]
  },
  {
   "cell_type": "code",
   "execution_count": 162,
   "metadata": {
    "collapsed": true
   },
   "outputs": [],
   "source": [
    "binary_list.to_csv(\"binary_list.csv\")"
   ]
  },
  {
   "cell_type": "markdown",
   "metadata": {},
   "source": [
    "Then, we get frequenct according to experience and degree."
   ]
  },
  {
   "cell_type": "code",
   "execution_count": 174,
   "metadata": {
    "collapsed": false
   },
   "outputs": [],
   "source": [
    "#group by degree\n",
    "by_degree=binary_list.iloc[:,0:21].groupby(\"degree\")"
   ]
  },
  {
   "cell_type": "code",
   "execution_count": 176,
   "metadata": {
    "collapsed": false
   },
   "outputs": [],
   "source": [
    "skill_degree=by_degree.sum() #skill for degree"
   ]
  },
  {
   "cell_type": "code",
   "execution_count": 177,
   "metadata": {
    "collapsed": true
   },
   "outputs": [],
   "source": [
    "skill_degree.to_csv(\"skill_degree.csv\")"
   ]
  },
  {
   "cell_type": "code",
   "execution_count": 179,
   "metadata": {
    "collapsed": false
   },
   "outputs": [],
   "source": [
    "#group by experience\n",
    "skill_exp=(binary_list.drop('degree',axis=1).groupby('year_group')).sum()"
   ]
  },
  {
   "cell_type": "code",
   "execution_count": 180,
   "metadata": {
    "collapsed": false
   },
   "outputs": [
    {
     "data": {
      "text/html": [
       "<div>\n",
       "<table border=\"1\" class=\"dataframe\">\n",
       "  <thead>\n",
       "    <tr style=\"text-align: right;\">\n",
       "      <th>word</th>\n",
       "      <th>sql</th>\n",
       "      <th>excel</th>\n",
       "      <th>access</th>\n",
       "      <th>python</th>\n",
       "      <th>java</th>\n",
       "      <th>hadoop</th>\n",
       "      <th>tableau</th>\n",
       "      <th>matlab</th>\n",
       "      <th>spark</th>\n",
       "      <th>microsoft</th>\n",
       "      <th>oracl</th>\n",
       "      <th>vba</th>\n",
       "      <th>hive</th>\n",
       "      <th>spss</th>\n",
       "      <th>mysql</th>\n",
       "      <th>pig</th>\n",
       "      <th>stata</th>\n",
       "      <th>sqlserver</th>\n",
       "      <th>r</th>\n",
       "      <th>sas</th>\n",
       "    </tr>\n",
       "    <tr>\n",
       "      <th>year_group</th>\n",
       "      <th></th>\n",
       "      <th></th>\n",
       "      <th></th>\n",
       "      <th></th>\n",
       "      <th></th>\n",
       "      <th></th>\n",
       "      <th></th>\n",
       "      <th></th>\n",
       "      <th></th>\n",
       "      <th></th>\n",
       "      <th></th>\n",
       "      <th></th>\n",
       "      <th></th>\n",
       "      <th></th>\n",
       "      <th></th>\n",
       "      <th></th>\n",
       "      <th></th>\n",
       "      <th></th>\n",
       "      <th></th>\n",
       "      <th></th>\n",
       "    </tr>\n",
       "  </thead>\n",
       "  <tbody>\n",
       "    <tr>\n",
       "      <th>3-5</th>\n",
       "      <td>45</td>\n",
       "      <td>80</td>\n",
       "      <td>31</td>\n",
       "      <td>14</td>\n",
       "      <td>7</td>\n",
       "      <td>7</td>\n",
       "      <td>21</td>\n",
       "      <td>2</td>\n",
       "      <td>3</td>\n",
       "      <td>25</td>\n",
       "      <td>6</td>\n",
       "      <td>9</td>\n",
       "      <td>2</td>\n",
       "      <td>2</td>\n",
       "      <td>3</td>\n",
       "      <td>1</td>\n",
       "      <td>1</td>\n",
       "      <td>0</td>\n",
       "      <td>101</td>\n",
       "      <td>19</td>\n",
       "    </tr>\n",
       "    <tr>\n",
       "      <th>greater than 5</th>\n",
       "      <td>14</td>\n",
       "      <td>18</td>\n",
       "      <td>17</td>\n",
       "      <td>7</td>\n",
       "      <td>4</td>\n",
       "      <td>1</td>\n",
       "      <td>7</td>\n",
       "      <td>0</td>\n",
       "      <td>2</td>\n",
       "      <td>11</td>\n",
       "      <td>4</td>\n",
       "      <td>5</td>\n",
       "      <td>1</td>\n",
       "      <td>0</td>\n",
       "      <td>1</td>\n",
       "      <td>0</td>\n",
       "      <td>0</td>\n",
       "      <td>0</td>\n",
       "      <td>18</td>\n",
       "      <td>7</td>\n",
       "    </tr>\n",
       "    <tr>\n",
       "      <th>less than 2</th>\n",
       "      <td>1008</td>\n",
       "      <td>1112</td>\n",
       "      <td>933</td>\n",
       "      <td>729</td>\n",
       "      <td>225</td>\n",
       "      <td>296</td>\n",
       "      <td>282</td>\n",
       "      <td>230</td>\n",
       "      <td>256</td>\n",
       "      <td>223</td>\n",
       "      <td>114</td>\n",
       "      <td>50</td>\n",
       "      <td>50</td>\n",
       "      <td>34</td>\n",
       "      <td>23</td>\n",
       "      <td>18</td>\n",
       "      <td>65</td>\n",
       "      <td>3</td>\n",
       "      <td>1272</td>\n",
       "      <td>181</td>\n",
       "    </tr>\n",
       "  </tbody>\n",
       "</table>\n",
       "</div>"
      ],
      "text/plain": [
       "word             sql  excel  access  python  java  hadoop  tableau  matlab  \\\n",
       "year_group                                                                   \n",
       "3-5               45     80      31      14     7       7       21       2   \n",
       "greater than 5    14     18      17       7     4       1        7       0   \n",
       "less than 2     1008   1112     933     729   225     296      282     230   \n",
       "\n",
       "word            spark  microsoft  oracl  vba  hive  spss  mysql  pig  stata  \\\n",
       "year_group                                                                    \n",
       "3-5                 3         25      6    9     2     2      3    1      1   \n",
       "greater than 5      2         11      4    5     1     0      1    0      0   \n",
       "less than 2       256        223    114   50    50    34     23   18     65   \n",
       "\n",
       "word            sqlserver     r  sas  \n",
       "year_group                            \n",
       "3-5                     0   101   19  \n",
       "greater than 5          0    18    7  \n",
       "less than 2             3  1272  181  "
      ]
     },
     "execution_count": 180,
     "metadata": {},
     "output_type": "execute_result"
    }
   ],
   "source": [
    "skill_exp"
   ]
  },
  {
   "cell_type": "code",
   "execution_count": 181,
   "metadata": {
    "collapsed": true
   },
   "outputs": [],
   "source": [
    "skill_exp.to_csv('skill_exp.csv')"
   ]
  }
 ],
 "metadata": {
  "anaconda-cloud": {},
  "kernelspec": {
   "display_name": "Python [conda root]",
   "language": "python",
   "name": "conda-root-py"
  },
  "language_info": {
   "codemirror_mode": {
    "name": "ipython",
    "version": 2
   },
   "file_extension": ".py",
   "mimetype": "text/x-python",
   "name": "python",
   "nbconvert_exporter": "python",
   "pygments_lexer": "ipython2",
   "version": "2.7.12"
  }
 },
 "nbformat": 4,
 "nbformat_minor": 1
}
